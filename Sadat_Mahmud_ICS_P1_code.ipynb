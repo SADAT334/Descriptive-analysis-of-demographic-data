{
 "cells": [
  {
   "cell_type": "code",
   "execution_count": 1,
   "metadata": {},
   "outputs": [
    {
     "name": "stdout",
     "output_type": "stream",
     "text": [
      "3.8.5 (default, Sep  3 2020, 21:29:08) [MSC v.1916 64 bit (AMD64)]\n"
     ]
    }
   ],
   "source": [
    "# detect the version of the python\n",
    "\n",
    "import sys\n",
    "print(sys.version)"
   ]
  },
  {
   "cell_type": "code",
   "execution_count": 2,
   "metadata": {},
   "outputs": [],
   "source": [
    "# Import necessary packages\n",
    "\n",
    "import pandas as pd\n",
    "import numpy as np\n",
    "import scipy.stats\n",
    "import matplotlib.pyplot as plt\n",
    "import seaborn as sns\n",
    "sns.set()\n",
    "\n",
    "%matplotlib inline"
   ]
  },
  {
   "cell_type": "code",
   "execution_count": 3,
   "metadata": {
    "scrolled": true
   },
   "outputs": [
    {
     "data": {
      "text/html": [
       "<div>\n",
       "<style scoped>\n",
       "    .dataframe tbody tr th:only-of-type {\n",
       "        vertical-align: middle;\n",
       "    }\n",
       "\n",
       "    .dataframe tbody tr th {\n",
       "        vertical-align: top;\n",
       "    }\n",
       "\n",
       "    .dataframe thead th {\n",
       "        text-align: right;\n",
       "    }\n",
       "</style>\n",
       "<table border=\"1\" class=\"dataframe\">\n",
       "  <thead>\n",
       "    <tr style=\"text-align: right;\">\n",
       "      <th></th>\n",
       "      <th>Country.Name</th>\n",
       "      <th>Region</th>\n",
       "      <th>Subregion</th>\n",
       "      <th>Year</th>\n",
       "      <th>Median.age..both.sexes</th>\n",
       "      <th>Median.age..females</th>\n",
       "      <th>Median.age..males</th>\n",
       "      <th>Total.Fertility.Rate</th>\n",
       "      <th>Infant.Mortality.Rate..Both.Sexes</th>\n",
       "      <th>Infant.Mortality.Rate..Males</th>\n",
       "      <th>Infant.Mortality.Rate..Females</th>\n",
       "    </tr>\n",
       "  </thead>\n",
       "  <tbody>\n",
       "    <tr>\n",
       "      <th>0</th>\n",
       "      <td>Afghanistan</td>\n",
       "      <td>Asia</td>\n",
       "      <td>South-Central Asia</td>\n",
       "      <td>2003</td>\n",
       "      <td>16.2</td>\n",
       "      <td>16.2</td>\n",
       "      <td>16.2</td>\n",
       "      <td>6.58</td>\n",
       "      <td>141.3</td>\n",
       "      <td>150.0</td>\n",
       "      <td>132.2</td>\n",
       "    </tr>\n",
       "    <tr>\n",
       "      <th>1</th>\n",
       "      <td>Albania</td>\n",
       "      <td>Europe</td>\n",
       "      <td>Southern Europe</td>\n",
       "      <td>2003</td>\n",
       "      <td>27.1</td>\n",
       "      <td>27.7</td>\n",
       "      <td>26.3</td>\n",
       "      <td>2.07</td>\n",
       "      <td>17.1</td>\n",
       "      <td>18.4</td>\n",
       "      <td>15.8</td>\n",
       "    </tr>\n",
       "    <tr>\n",
       "      <th>2</th>\n",
       "      <td>Algeria</td>\n",
       "      <td>Africa</td>\n",
       "      <td>Northern Africa</td>\n",
       "      <td>2003</td>\n",
       "      <td>23.2</td>\n",
       "      <td>23.4</td>\n",
       "      <td>23.0</td>\n",
       "      <td>2.38</td>\n",
       "      <td>35.5</td>\n",
       "      <td>38.3</td>\n",
       "      <td>32.6</td>\n",
       "    </tr>\n",
       "    <tr>\n",
       "      <th>3</th>\n",
       "      <td>American Samoa</td>\n",
       "      <td>Oceania</td>\n",
       "      <td>Polynesia</td>\n",
       "      <td>2003</td>\n",
       "      <td>21.5</td>\n",
       "      <td>21.8</td>\n",
       "      <td>21.3</td>\n",
       "      <td>3.93</td>\n",
       "      <td>12.7</td>\n",
       "      <td>15.8</td>\n",
       "      <td>9.4</td>\n",
       "    </tr>\n",
       "    <tr>\n",
       "      <th>4</th>\n",
       "      <td>Andorra</td>\n",
       "      <td>Europe</td>\n",
       "      <td>Southern Europe</td>\n",
       "      <td>2003</td>\n",
       "      <td>37.7</td>\n",
       "      <td>37.4</td>\n",
       "      <td>38.0</td>\n",
       "      <td>1.29</td>\n",
       "      <td>3.6</td>\n",
       "      <td>3.8</td>\n",
       "      <td>3.5</td>\n",
       "    </tr>\n",
       "  </tbody>\n",
       "</table>\n",
       "</div>"
      ],
      "text/plain": [
       "     Country.Name   Region           Subregion  Year Median.age..both.sexes  \\\n",
       "0     Afghanistan     Asia  South-Central Asia  2003                   16.2   \n",
       "1         Albania   Europe     Southern Europe  2003                   27.1   \n",
       "2         Algeria   Africa     Northern Africa  2003                   23.2   \n",
       "3  American Samoa  Oceania           Polynesia  2003                   21.5   \n",
       "4         Andorra   Europe     Southern Europe  2003                   37.7   \n",
       "\n",
       "  Median.age..females Median.age..males Total.Fertility.Rate  \\\n",
       "0                16.2              16.2                 6.58   \n",
       "1                27.7              26.3                 2.07   \n",
       "2                23.4              23.0                 2.38   \n",
       "3                21.8              21.3                 3.93   \n",
       "4                37.4              38.0                 1.29   \n",
       "\n",
       "  Infant.Mortality.Rate..Both.Sexes Infant.Mortality.Rate..Males  \\\n",
       "0                             141.3                        150.0   \n",
       "1                              17.1                         18.4   \n",
       "2                              35.5                         38.3   \n",
       "3                              12.7                         15.8   \n",
       "4                               3.6                          3.8   \n",
       "\n",
       "  Infant.Mortality.Rate..Females  \n",
       "0                          132.2  \n",
       "1                           15.8  \n",
       "2                           32.6  \n",
       "3                            9.4  \n",
       "4                            3.5  "
      ]
     },
     "execution_count": 3,
     "metadata": {},
     "output_type": "execute_result"
    }
   ],
   "source": [
    "# read the data\n",
    "\n",
    "df_init= pd.read_csv('census2003_2023.csv')\n",
    "df_init_copy= df_init.copy()\n",
    "df_init.head()"
   ]
  },
  {
   "cell_type": "code",
   "execution_count": 4,
   "metadata": {
    "scrolled": true
   },
   "outputs": [
    {
     "name": "stdout",
     "output_type": "stream",
     "text": [
      "<class 'pandas.core.frame.DataFrame'>\n",
      "RangeIndex: 453 entries, 0 to 452\n",
      "Data columns (total 11 columns):\n",
      " #   Column                             Non-Null Count  Dtype \n",
      "---  ------                             --------------  ----- \n",
      " 0   Country.Name                       453 non-null    object\n",
      " 1   Region                             453 non-null    object\n",
      " 2   Subregion                          453 non-null    object\n",
      " 3   Year                               453 non-null    int64 \n",
      " 4   Median.age..both.sexes             453 non-null    object\n",
      " 5   Median.age..females                453 non-null    object\n",
      " 6   Median.age..males                  453 non-null    object\n",
      " 7   Total.Fertility.Rate               453 non-null    object\n",
      " 8   Infant.Mortality.Rate..Both.Sexes  453 non-null    object\n",
      " 9   Infant.Mortality.Rate..Males       453 non-null    object\n",
      " 10  Infant.Mortality.Rate..Females     453 non-null    object\n",
      "dtypes: int64(1), object(10)\n",
      "memory usage: 39.1+ KB\n"
     ]
    }
   ],
   "source": [
    "# data info\n",
    "\n",
    "df_init.info()"
   ]
  },
  {
   "cell_type": "code",
   "execution_count": 5,
   "metadata": {
    "scrolled": true
   },
   "outputs": [
    {
     "data": {
      "text/plain": [
       "Country.Name                         0\n",
       "Region                               0\n",
       "Subregion                            0\n",
       "Year                                 0\n",
       "Median.age..both.sexes               0\n",
       "Median.age..females                  0\n",
       "Median.age..males                    0\n",
       "Total.Fertility.Rate                 0\n",
       "Infant.Mortality.Rate..Both.Sexes    0\n",
       "Infant.Mortality.Rate..Males         0\n",
       "Infant.Mortality.Rate..Females       0\n",
       "dtype: int64"
      ]
     },
     "execution_count": 5,
     "metadata": {},
     "output_type": "execute_result"
    }
   ],
   "source": [
    "# null values of the data\n",
    "\n",
    "df_init.isnull().sum()"
   ]
  },
  {
   "cell_type": "code",
   "execution_count": 6,
   "metadata": {},
   "outputs": [
    {
     "data": {
      "text/html": [
       "<div>\n",
       "<style scoped>\n",
       "    .dataframe tbody tr th:only-of-type {\n",
       "        vertical-align: middle;\n",
       "    }\n",
       "\n",
       "    .dataframe tbody tr th {\n",
       "        vertical-align: top;\n",
       "    }\n",
       "\n",
       "    .dataframe thead th {\n",
       "        text-align: right;\n",
       "    }\n",
       "</style>\n",
       "<table border=\"1\" class=\"dataframe\">\n",
       "  <thead>\n",
       "    <tr style=\"text-align: right;\">\n",
       "      <th></th>\n",
       "      <th>Country.Name</th>\n",
       "      <th>Region</th>\n",
       "      <th>Subregion</th>\n",
       "      <th>Year</th>\n",
       "      <th>Median.age..both.sexes</th>\n",
       "      <th>Median.age..females</th>\n",
       "      <th>Median.age..males</th>\n",
       "      <th>Total.Fertility.Rate</th>\n",
       "      <th>Infant.Mortality.Rate..Both.Sexes</th>\n",
       "      <th>Infant.Mortality.Rate..Males</th>\n",
       "      <th>Infant.Mortality.Rate..Females</th>\n",
       "    </tr>\n",
       "  </thead>\n",
       "  <tbody>\n",
       "    <tr>\n",
       "      <th>117</th>\n",
       "      <td>Libya</td>\n",
       "      <td>Africa</td>\n",
       "      <td>Northern Africa</td>\n",
       "      <td>2003</td>\n",
       "      <td>--</td>\n",
       "      <td>--</td>\n",
       "      <td>--</td>\n",
       "      <td>--</td>\n",
       "      <td>--</td>\n",
       "      <td>--</td>\n",
       "      <td>--</td>\n",
       "    </tr>\n",
       "    <tr>\n",
       "      <th>162</th>\n",
       "      <td>Puerto Rico</td>\n",
       "      <td>Americas</td>\n",
       "      <td>Caribbean</td>\n",
       "      <td>2003</td>\n",
       "      <td>--</td>\n",
       "      <td>--</td>\n",
       "      <td>--</td>\n",
       "      <td>--</td>\n",
       "      <td>--</td>\n",
       "      <td>--</td>\n",
       "      <td>--</td>\n",
       "    </tr>\n",
       "    <tr>\n",
       "      <th>189</th>\n",
       "      <td>South Sudan</td>\n",
       "      <td>Africa</td>\n",
       "      <td>Northern Africa</td>\n",
       "      <td>2003</td>\n",
       "      <td>--</td>\n",
       "      <td>--</td>\n",
       "      <td>--</td>\n",
       "      <td>--</td>\n",
       "      <td>--</td>\n",
       "      <td>--</td>\n",
       "      <td>--</td>\n",
       "    </tr>\n",
       "    <tr>\n",
       "      <th>192</th>\n",
       "      <td>Sudan</td>\n",
       "      <td>Africa</td>\n",
       "      <td>Northern Africa</td>\n",
       "      <td>2003</td>\n",
       "      <td>--</td>\n",
       "      <td>--</td>\n",
       "      <td>--</td>\n",
       "      <td>--</td>\n",
       "      <td>--</td>\n",
       "      <td>--</td>\n",
       "      <td>--</td>\n",
       "    </tr>\n",
       "    <tr>\n",
       "      <th>196</th>\n",
       "      <td>Syria</td>\n",
       "      <td>Asia</td>\n",
       "      <td>Western Asia</td>\n",
       "      <td>2003</td>\n",
       "      <td>--</td>\n",
       "      <td>--</td>\n",
       "      <td>--</td>\n",
       "      <td>--</td>\n",
       "      <td>--</td>\n",
       "      <td>--</td>\n",
       "      <td>--</td>\n",
       "    </tr>\n",
       "    <tr>\n",
       "      <th>214</th>\n",
       "      <td>United States</td>\n",
       "      <td>Americas</td>\n",
       "      <td>Northern America</td>\n",
       "      <td>2003</td>\n",
       "      <td>--</td>\n",
       "      <td>--</td>\n",
       "      <td>--</td>\n",
       "      <td>--</td>\n",
       "      <td>--</td>\n",
       "      <td>--</td>\n",
       "      <td>--</td>\n",
       "    </tr>\n",
       "    <tr>\n",
       "      <th>440</th>\n",
       "      <td>United States</td>\n",
       "      <td>Americas</td>\n",
       "      <td>Northern America</td>\n",
       "      <td>2023</td>\n",
       "      <td>--</td>\n",
       "      <td>--</td>\n",
       "      <td>--</td>\n",
       "      <td>1.84</td>\n",
       "      <td>5.1</td>\n",
       "      <td>5.5</td>\n",
       "      <td>4.7</td>\n",
       "    </tr>\n",
       "  </tbody>\n",
       "</table>\n",
       "</div>"
      ],
      "text/plain": [
       "      Country.Name    Region         Subregion  Year Median.age..both.sexes  \\\n",
       "117          Libya    Africa   Northern Africa  2003                     --   \n",
       "162    Puerto Rico  Americas         Caribbean  2003                     --   \n",
       "189    South Sudan    Africa   Northern Africa  2003                     --   \n",
       "192          Sudan    Africa   Northern Africa  2003                     --   \n",
       "196          Syria      Asia      Western Asia  2003                     --   \n",
       "214  United States  Americas  Northern America  2003                     --   \n",
       "440  United States  Americas  Northern America  2023                     --   \n",
       "\n",
       "    Median.age..females Median.age..males Total.Fertility.Rate  \\\n",
       "117                  --                --                   --   \n",
       "162                  --                --                   --   \n",
       "189                  --                --                   --   \n",
       "192                  --                --                   --   \n",
       "196                  --                --                   --   \n",
       "214                  --                --                   --   \n",
       "440                  --                --                 1.84   \n",
       "\n",
       "    Infant.Mortality.Rate..Both.Sexes Infant.Mortality.Rate..Males  \\\n",
       "117                                --                           --   \n",
       "162                                --                           --   \n",
       "189                                --                           --   \n",
       "192                                --                           --   \n",
       "196                                --                           --   \n",
       "214                                --                           --   \n",
       "440                               5.1                          5.5   \n",
       "\n",
       "    Infant.Mortality.Rate..Females  \n",
       "117                             --  \n",
       "162                             --  \n",
       "189                             --  \n",
       "192                             --  \n",
       "196                             --  \n",
       "214                             --  \n",
       "440                            4.7  "
      ]
     },
     "execution_count": 6,
     "metadata": {},
     "output_type": "execute_result"
    }
   ],
   "source": [
    "df_init[df_init['Median.age..both.sexes' ]== '--']"
   ]
  },
  {
   "cell_type": "code",
   "execution_count": 7,
   "metadata": {},
   "outputs": [
    {
     "data": {
      "text/plain": [
       "Country.Name                         0\n",
       "Region                               0\n",
       "Subregion                            0\n",
       "Year                                 0\n",
       "Median.age..both.sexes               7\n",
       "Median.age..females                  7\n",
       "Median.age..males                    7\n",
       "Total.Fertility.Rate                 6\n",
       "Infant.Mortality.Rate..Both.Sexes    6\n",
       "Infant.Mortality.Rate..Males         6\n",
       "Infant.Mortality.Rate..Females       6\n",
       "dtype: int64"
      ]
     },
     "execution_count": 7,
     "metadata": {},
     "output_type": "execute_result"
    }
   ],
   "source": [
    "# replacing the empty cells with null values, so that they can be dropped\n",
    "\n",
    "df_init.replace('--', np.nan, inplace= True)\n",
    "df_init.isnull().sum()"
   ]
  },
  {
   "cell_type": "code",
   "execution_count": 8,
   "metadata": {},
   "outputs": [
    {
     "data": {
      "text/plain": [
       "Country.Name                         0\n",
       "Region                               0\n",
       "Subregion                            0\n",
       "Year                                 0\n",
       "Median.age..both.sexes               0\n",
       "Median.age..females                  0\n",
       "Median.age..males                    0\n",
       "Total.Fertility.Rate                 0\n",
       "Infant.Mortality.Rate..Both.Sexes    0\n",
       "Infant.Mortality.Rate..Males         0\n",
       "Infant.Mortality.Rate..Females       0\n",
       "dtype: int64"
      ]
     },
     "execution_count": 8,
     "metadata": {},
     "output_type": "execute_result"
    }
   ],
   "source": [
    "# dropping the null values\n",
    "\n",
    "df_init.dropna(inplace= True)\n",
    "df_init.isnull().sum()"
   ]
  },
  {
   "cell_type": "code",
   "execution_count": 9,
   "metadata": {},
   "outputs": [],
   "source": [
    "# resetting the index after dropping nulls\n",
    "\n",
    "df_init.reset_index(inplace=True)\n",
    "df_init.drop('index', axis= 1,  inplace=True)"
   ]
  },
  {
   "cell_type": "code",
   "execution_count": 10,
   "metadata": {
    "scrolled": true
   },
   "outputs": [
    {
     "data": {
      "text/plain": [
       "Country.Name                         object\n",
       "Region                               object\n",
       "Subregion                            object\n",
       "Year                                  int64\n",
       "Median.age..both.sexes               object\n",
       "Median.age..females                  object\n",
       "Median.age..males                    object\n",
       "Total.Fertility.Rate                 object\n",
       "Infant.Mortality.Rate..Both.Sexes    object\n",
       "Infant.Mortality.Rate..Males         object\n",
       "Infant.Mortality.Rate..Females       object\n",
       "dtype: object"
      ]
     },
     "execution_count": 10,
     "metadata": {},
     "output_type": "execute_result"
    }
   ],
   "source": [
    "# showing the dtypes of the data\n",
    "df_init.dtypes"
   ]
  },
  {
   "cell_type": "code",
   "execution_count": 11,
   "metadata": {},
   "outputs": [
    {
     "data": {
      "text/html": [
       "<div>\n",
       "<style scoped>\n",
       "    .dataframe tbody tr th:only-of-type {\n",
       "        vertical-align: middle;\n",
       "    }\n",
       "\n",
       "    .dataframe tbody tr th {\n",
       "        vertical-align: top;\n",
       "    }\n",
       "\n",
       "    .dataframe thead th {\n",
       "        text-align: right;\n",
       "    }\n",
       "</style>\n",
       "<table border=\"1\" class=\"dataframe\">\n",
       "  <thead>\n",
       "    <tr style=\"text-align: right;\">\n",
       "      <th></th>\n",
       "      <th>Country.Name</th>\n",
       "      <th>Region</th>\n",
       "      <th>Subregion</th>\n",
       "      <th>Year</th>\n",
       "      <th>Median.age..both.sexes</th>\n",
       "      <th>Median.age..females</th>\n",
       "      <th>Median.age..males</th>\n",
       "      <th>Total.Fertility.Rate</th>\n",
       "      <th>Infant.Mortality.Rate..Both.Sexes</th>\n",
       "      <th>Infant.Mortality.Rate..Males</th>\n",
       "      <th>Infant.Mortality.Rate..Females</th>\n",
       "    </tr>\n",
       "  </thead>\n",
       "  <tbody>\n",
       "    <tr>\n",
       "      <th>0</th>\n",
       "      <td>Afghanistan</td>\n",
       "      <td>Asia</td>\n",
       "      <td>South-Central Asia</td>\n",
       "      <td>2003</td>\n",
       "      <td>16.2</td>\n",
       "      <td>16.2</td>\n",
       "      <td>16.2</td>\n",
       "      <td>6.58</td>\n",
       "      <td>141.3</td>\n",
       "      <td>150.0</td>\n",
       "      <td>132.2</td>\n",
       "    </tr>\n",
       "    <tr>\n",
       "      <th>1</th>\n",
       "      <td>Albania</td>\n",
       "      <td>Europe</td>\n",
       "      <td>Southern Europe</td>\n",
       "      <td>2003</td>\n",
       "      <td>27.1</td>\n",
       "      <td>27.7</td>\n",
       "      <td>26.3</td>\n",
       "      <td>2.07</td>\n",
       "      <td>17.1</td>\n",
       "      <td>18.4</td>\n",
       "      <td>15.8</td>\n",
       "    </tr>\n",
       "    <tr>\n",
       "      <th>2</th>\n",
       "      <td>Algeria</td>\n",
       "      <td>Africa</td>\n",
       "      <td>Northern Africa</td>\n",
       "      <td>2003</td>\n",
       "      <td>23.2</td>\n",
       "      <td>23.4</td>\n",
       "      <td>23.0</td>\n",
       "      <td>2.38</td>\n",
       "      <td>35.5</td>\n",
       "      <td>38.3</td>\n",
       "      <td>32.6</td>\n",
       "    </tr>\n",
       "    <tr>\n",
       "      <th>3</th>\n",
       "      <td>American Samoa</td>\n",
       "      <td>Oceania</td>\n",
       "      <td>Polynesia</td>\n",
       "      <td>2003</td>\n",
       "      <td>21.5</td>\n",
       "      <td>21.8</td>\n",
       "      <td>21.3</td>\n",
       "      <td>3.93</td>\n",
       "      <td>12.7</td>\n",
       "      <td>15.8</td>\n",
       "      <td>9.4</td>\n",
       "    </tr>\n",
       "    <tr>\n",
       "      <th>4</th>\n",
       "      <td>Andorra</td>\n",
       "      <td>Europe</td>\n",
       "      <td>Southern Europe</td>\n",
       "      <td>2003</td>\n",
       "      <td>37.7</td>\n",
       "      <td>37.4</td>\n",
       "      <td>38.0</td>\n",
       "      <td>1.29</td>\n",
       "      <td>3.6</td>\n",
       "      <td>3.8</td>\n",
       "      <td>3.5</td>\n",
       "    </tr>\n",
       "  </tbody>\n",
       "</table>\n",
       "</div>"
      ],
      "text/plain": [
       "     Country.Name   Region           Subregion  Year Median.age..both.sexes  \\\n",
       "0     Afghanistan     Asia  South-Central Asia  2003                   16.2   \n",
       "1         Albania   Europe     Southern Europe  2003                   27.1   \n",
       "2         Algeria   Africa     Northern Africa  2003                   23.2   \n",
       "3  American Samoa  Oceania           Polynesia  2003                   21.5   \n",
       "4         Andorra   Europe     Southern Europe  2003                   37.7   \n",
       "\n",
       "  Median.age..females Median.age..males Total.Fertility.Rate  \\\n",
       "0                16.2              16.2                 6.58   \n",
       "1                27.7              26.3                 2.07   \n",
       "2                23.4              23.0                 2.38   \n",
       "3                21.8              21.3                 3.93   \n",
       "4                37.4              38.0                 1.29   \n",
       "\n",
       "  Infant.Mortality.Rate..Both.Sexes Infant.Mortality.Rate..Males  \\\n",
       "0                             141.3                        150.0   \n",
       "1                              17.1                         18.4   \n",
       "2                              35.5                         38.3   \n",
       "3                              12.7                         15.8   \n",
       "4                               3.6                          3.8   \n",
       "\n",
       "  Infant.Mortality.Rate..Females  \n",
       "0                          132.2  \n",
       "1                           15.8  \n",
       "2                           32.6  \n",
       "3                            9.4  \n",
       "4                            3.5  "
      ]
     },
     "execution_count": 11,
     "metadata": {},
     "output_type": "execute_result"
    }
   ],
   "source": [
    "df_init.head()"
   ]
  },
  {
   "cell_type": "code",
   "execution_count": 12,
   "metadata": {},
   "outputs": [
    {
     "data": {
      "text/plain": [
       "Index(['Country.Name', 'Region', 'Subregion', 'Year', 'Median.age..both.sexes',\n",
       "       'Median.age..females', 'Median.age..males', 'Total.Fertility.Rate',\n",
       "       'Infant.Mortality.Rate..Both.Sexes', 'Infant.Mortality.Rate..Males',\n",
       "       'Infant.Mortality.Rate..Females'],\n",
       "      dtype='object')"
      ]
     },
     "execution_count": 12,
     "metadata": {},
     "output_type": "execute_result"
    }
   ],
   "source": [
    "df_init.columns"
   ]
  },
  {
   "cell_type": "code",
   "execution_count": 13,
   "metadata": {},
   "outputs": [],
   "source": [
    "# chaning the data column names for a better and easier understading and use\n",
    "\n",
    "df_init.columns= ['Country.Name', 'Region', 'Subregion', 'Year',\n",
    "       'Median_age_both_sexes', 'Median_age_females', 'Median_age_males',\n",
    "       'Total_Fertility_Rate', 'Infant_Mortality_Rate_Both_Sexes',\n",
    "       'Infant_Mortality_Rate_Males', 'Infant_Mortality_Rate_Females']"
   ]
  },
  {
   "cell_type": "code",
   "execution_count": 14,
   "metadata": {},
   "outputs": [],
   "source": [
    "# converting the object dtype variables into numeric type\n",
    "\n",
    "columns_converting= ['Median_age_both_sexes', 'Median_age_females', 'Median_age_males',\n",
    "       'Total_Fertility_Rate', 'Infant_Mortality_Rate_Both_Sexes',\n",
    "       'Infant_Mortality_Rate_Males', 'Infant_Mortality_Rate_Females']\n",
    "\n",
    "for column in columns_converting:\n",
    "    df_init[column]= pd.to_numeric(df_init[column])"
   ]
  },
  {
   "cell_type": "code",
   "execution_count": 15,
   "metadata": {},
   "outputs": [],
   "source": [
    "# selecting the data fir the year 2023\n",
    "\n",
    "df= df_init[df_init['Year']== 2023]"
   ]
  },
  {
   "cell_type": "code",
   "execution_count": 16,
   "metadata": {},
   "outputs": [
    {
     "data": {
      "text/plain": [
       "array(['Europe', 'Africa', 'Oceania', 'Americas', 'Asia'], dtype=object)"
      ]
     },
     "execution_count": 16,
     "metadata": {},
     "output_type": "execute_result"
    }
   ],
   "source": [
    "df['Region'].unique()"
   ]
  },
  {
   "cell_type": "code",
   "execution_count": 17,
   "metadata": {},
   "outputs": [
    {
     "data": {
      "text/html": [
       "<div>\n",
       "<style scoped>\n",
       "    .dataframe tbody tr th:only-of-type {\n",
       "        vertical-align: middle;\n",
       "    }\n",
       "\n",
       "    .dataframe tbody tr th {\n",
       "        vertical-align: top;\n",
       "    }\n",
       "\n",
       "    .dataframe thead tr th {\n",
       "        text-align: left;\n",
       "    }\n",
       "\n",
       "    .dataframe thead tr:last-of-type th {\n",
       "        text-align: right;\n",
       "    }\n",
       "</style>\n",
       "<table border=\"1\" class=\"dataframe\">\n",
       "  <thead>\n",
       "    <tr>\n",
       "      <th></th>\n",
       "      <th colspan=\"8\" halign=\"left\">Median_age_females</th>\n",
       "      <th colspan=\"2\" halign=\"left\">Median_age_males</th>\n",
       "      <th>...</th>\n",
       "      <th colspan=\"2\" halign=\"left\">Infant_Mortality_Rate_Females</th>\n",
       "      <th colspan=\"8\" halign=\"left\">Total_Fertility_Rate</th>\n",
       "    </tr>\n",
       "    <tr>\n",
       "      <th></th>\n",
       "      <th>count</th>\n",
       "      <th>mean</th>\n",
       "      <th>std</th>\n",
       "      <th>min</th>\n",
       "      <th>25%</th>\n",
       "      <th>50%</th>\n",
       "      <th>75%</th>\n",
       "      <th>max</th>\n",
       "      <th>count</th>\n",
       "      <th>mean</th>\n",
       "      <th>...</th>\n",
       "      <th>75%</th>\n",
       "      <th>max</th>\n",
       "      <th>count</th>\n",
       "      <th>mean</th>\n",
       "      <th>std</th>\n",
       "      <th>min</th>\n",
       "      <th>25%</th>\n",
       "      <th>50%</th>\n",
       "      <th>75%</th>\n",
       "      <th>max</th>\n",
       "    </tr>\n",
       "    <tr>\n",
       "      <th>Region</th>\n",
       "      <th></th>\n",
       "      <th></th>\n",
       "      <th></th>\n",
       "      <th></th>\n",
       "      <th></th>\n",
       "      <th></th>\n",
       "      <th></th>\n",
       "      <th></th>\n",
       "      <th></th>\n",
       "      <th></th>\n",
       "      <th></th>\n",
       "      <th></th>\n",
       "      <th></th>\n",
       "      <th></th>\n",
       "      <th></th>\n",
       "      <th></th>\n",
       "      <th></th>\n",
       "      <th></th>\n",
       "      <th></th>\n",
       "      <th></th>\n",
       "      <th></th>\n",
       "    </tr>\n",
       "  </thead>\n",
       "  <tbody>\n",
       "    <tr>\n",
       "      <th>Africa</th>\n",
       "      <td>55.0</td>\n",
       "      <td>22.616364</td>\n",
       "      <td>6.070809</td>\n",
       "      <td>15.5</td>\n",
       "      <td>19.15</td>\n",
       "      <td>21.0</td>\n",
       "      <td>23.65</td>\n",
       "      <td>44.9</td>\n",
       "      <td>55.0</td>\n",
       "      <td>21.703636</td>\n",
       "      <td>...</td>\n",
       "      <td>47.90</td>\n",
       "      <td>75.6</td>\n",
       "      <td>55.0</td>\n",
       "      <td>3.755273</td>\n",
       "      <td>1.182826</td>\n",
       "      <td>1.35</td>\n",
       "      <td>2.955</td>\n",
       "      <td>3.66</td>\n",
       "      <td>4.555</td>\n",
       "      <td>6.73</td>\n",
       "    </tr>\n",
       "    <tr>\n",
       "      <th>Americas</th>\n",
       "      <td>49.0</td>\n",
       "      <td>35.818367</td>\n",
       "      <td>6.337378</td>\n",
       "      <td>24.9</td>\n",
       "      <td>31.30</td>\n",
       "      <td>35.6</td>\n",
       "      <td>40.00</td>\n",
       "      <td>51.2</td>\n",
       "      <td>49.0</td>\n",
       "      <td>34.071429</td>\n",
       "      <td>...</td>\n",
       "      <td>12.50</td>\n",
       "      <td>35.1</td>\n",
       "      <td>49.0</td>\n",
       "      <td>1.878776</td>\n",
       "      <td>0.291724</td>\n",
       "      <td>1.25</td>\n",
       "      <td>1.720</td>\n",
       "      <td>1.88</td>\n",
       "      <td>2.050</td>\n",
       "      <td>2.57</td>\n",
       "    </tr>\n",
       "    <tr>\n",
       "      <th>Asia</th>\n",
       "      <td>51.0</td>\n",
       "      <td>32.182353</td>\n",
       "      <td>7.376658</td>\n",
       "      <td>19.5</td>\n",
       "      <td>28.10</td>\n",
       "      <td>31.2</td>\n",
       "      <td>36.00</td>\n",
       "      <td>50.9</td>\n",
       "      <td>51.0</td>\n",
       "      <td>31.239216</td>\n",
       "      <td>...</td>\n",
       "      <td>20.75</td>\n",
       "      <td>48.1</td>\n",
       "      <td>51.0</td>\n",
       "      <td>2.143137</td>\n",
       "      <td>0.704359</td>\n",
       "      <td>1.09</td>\n",
       "      <td>1.695</td>\n",
       "      <td>1.96</td>\n",
       "      <td>2.630</td>\n",
       "      <td>4.09</td>\n",
       "    </tr>\n",
       "    <tr>\n",
       "      <th>Europe</th>\n",
       "      <td>49.0</td>\n",
       "      <td>44.465306</td>\n",
       "      <td>4.236033</td>\n",
       "      <td>32.0</td>\n",
       "      <td>42.00</td>\n",
       "      <td>44.8</td>\n",
       "      <td>47.20</td>\n",
       "      <td>57.6</td>\n",
       "      <td>49.0</td>\n",
       "      <td>41.485714</td>\n",
       "      <td>...</td>\n",
       "      <td>5.00</td>\n",
       "      <td>23.4</td>\n",
       "      <td>49.0</td>\n",
       "      <td>1.597551</td>\n",
       "      <td>0.200443</td>\n",
       "      <td>1.22</td>\n",
       "      <td>1.510</td>\n",
       "      <td>1.59</td>\n",
       "      <td>1.690</td>\n",
       "      <td>2.28</td>\n",
       "    </tr>\n",
       "    <tr>\n",
       "      <th>Oceania</th>\n",
       "      <td>21.0</td>\n",
       "      <td>30.976190</td>\n",
       "      <td>5.424381</td>\n",
       "      <td>21.8</td>\n",
       "      <td>27.30</td>\n",
       "      <td>30.0</td>\n",
       "      <td>35.10</td>\n",
       "      <td>41.0</td>\n",
       "      <td>21.0</td>\n",
       "      <td>29.709524</td>\n",
       "      <td>...</td>\n",
       "      <td>15.60</td>\n",
       "      <td>30.1</td>\n",
       "      <td>21.0</td>\n",
       "      <td>2.344286</td>\n",
       "      <td>0.524486</td>\n",
       "      <td>1.70</td>\n",
       "      <td>1.860</td>\n",
       "      <td>2.23</td>\n",
       "      <td>2.700</td>\n",
       "      <td>3.85</td>\n",
       "    </tr>\n",
       "  </tbody>\n",
       "</table>\n",
       "<p>5 rows × 40 columns</p>\n",
       "</div>"
      ],
      "text/plain": [
       "         Median_age_females                                                 \\\n",
       "                      count       mean       std   min    25%   50%    75%   \n",
       "Region                                                                       \n",
       "Africa                 55.0  22.616364  6.070809  15.5  19.15  21.0  23.65   \n",
       "Americas               49.0  35.818367  6.337378  24.9  31.30  35.6  40.00   \n",
       "Asia                   51.0  32.182353  7.376658  19.5  28.10  31.2  36.00   \n",
       "Europe                 49.0  44.465306  4.236033  32.0  42.00  44.8  47.20   \n",
       "Oceania                21.0  30.976190  5.424381  21.8  27.30  30.0  35.10   \n",
       "\n",
       "               Median_age_males             ... Infant_Mortality_Rate_Females  \\\n",
       "           max            count       mean  ...                           75%   \n",
       "Region                                      ...                                 \n",
       "Africa    44.9             55.0  21.703636  ...                         47.90   \n",
       "Americas  51.2             49.0  34.071429  ...                         12.50   \n",
       "Asia      50.9             51.0  31.239216  ...                         20.75   \n",
       "Europe    57.6             49.0  41.485714  ...                          5.00   \n",
       "Oceania   41.0             21.0  29.709524  ...                         15.60   \n",
       "\n",
       "               Total_Fertility_Rate                                         \\\n",
       "           max                count      mean       std   min    25%   50%   \n",
       "Region                                                                       \n",
       "Africa    75.6                 55.0  3.755273  1.182826  1.35  2.955  3.66   \n",
       "Americas  35.1                 49.0  1.878776  0.291724  1.25  1.720  1.88   \n",
       "Asia      48.1                 51.0  2.143137  0.704359  1.09  1.695  1.96   \n",
       "Europe    23.4                 49.0  1.597551  0.200443  1.22  1.510  1.59   \n",
       "Oceania   30.1                 21.0  2.344286  0.524486  1.70  1.860  2.23   \n",
       "\n",
       "                       \n",
       "            75%   max  \n",
       "Region                 \n",
       "Africa    4.555  6.73  \n",
       "Americas  2.050  2.57  \n",
       "Asia      2.630  4.09  \n",
       "Europe    1.690  2.28  \n",
       "Oceania   2.700  3.85  \n",
       "\n",
       "[5 rows x 40 columns]"
      ]
     },
     "execution_count": 17,
     "metadata": {},
     "output_type": "execute_result"
    }
   ],
   "source": [
    "# selecting numerical variables and their descriptive statistics\n",
    "\n",
    "cols= ['Region', 'Median_age_females', 'Median_age_males', 'Infant_Mortality_Rate_Males',\n",
    "       'Infant_Mortality_Rate_Females',  'Total_Fertility_Rate']\n",
    "\n",
    "df1= df[cols]\n",
    "df1.groupby('Region').describe()"
   ]
  },
  {
   "cell_type": "markdown",
   "metadata": {},
   "source": [
    "## Task 1:"
   ]
  },
  {
   "cell_type": "code",
   "execution_count": 18,
   "metadata": {},
   "outputs": [
    {
     "data": {
      "text/html": [
       "<div>\n",
       "<style scoped>\n",
       "    .dataframe tbody tr th:only-of-type {\n",
       "        vertical-align: middle;\n",
       "    }\n",
       "\n",
       "    .dataframe tbody tr th {\n",
       "        vertical-align: top;\n",
       "    }\n",
       "\n",
       "    .dataframe thead tr th {\n",
       "        text-align: left;\n",
       "    }\n",
       "\n",
       "    .dataframe thead tr:last-of-type th {\n",
       "        text-align: right;\n",
       "    }\n",
       "</style>\n",
       "<table border=\"1\" class=\"dataframe\">\n",
       "  <thead>\n",
       "    <tr>\n",
       "      <th></th>\n",
       "      <th colspan=\"3\" halign=\"left\">Median_age_both_sexes</th>\n",
       "      <th colspan=\"3\" halign=\"left\">Infant_Mortality_Rate_Both_Sexes</th>\n",
       "      <th colspan=\"3\" halign=\"left\">Total_Fertility_Rate</th>\n",
       "    </tr>\n",
       "    <tr>\n",
       "      <th></th>\n",
       "      <th>mean</th>\n",
       "      <th>median</th>\n",
       "      <th>std</th>\n",
       "      <th>mean</th>\n",
       "      <th>median</th>\n",
       "      <th>std</th>\n",
       "      <th>mean</th>\n",
       "      <th>median</th>\n",
       "      <th>std</th>\n",
       "    </tr>\n",
       "    <tr>\n",
       "      <th>Region</th>\n",
       "      <th></th>\n",
       "      <th></th>\n",
       "      <th></th>\n",
       "      <th></th>\n",
       "      <th></th>\n",
       "      <th></th>\n",
       "      <th></th>\n",
       "      <th></th>\n",
       "      <th></th>\n",
       "    </tr>\n",
       "  </thead>\n",
       "  <tbody>\n",
       "    <tr>\n",
       "      <th>Africa</th>\n",
       "      <td>22.16</td>\n",
       "      <td>20.5</td>\n",
       "      <td>5.98</td>\n",
       "      <td>41.07</td>\n",
       "      <td>38.3</td>\n",
       "      <td>18.31</td>\n",
       "      <td>3.76</td>\n",
       "      <td>3.66</td>\n",
       "      <td>1.18</td>\n",
       "    </tr>\n",
       "    <tr>\n",
       "      <th>Americas</th>\n",
       "      <td>34.95</td>\n",
       "      <td>35.0</td>\n",
       "      <td>6.11</td>\n",
       "      <td>12.14</td>\n",
       "      <td>11.0</td>\n",
       "      <td>6.96</td>\n",
       "      <td>1.88</td>\n",
       "      <td>1.88</td>\n",
       "      <td>0.29</td>\n",
       "    </tr>\n",
       "    <tr>\n",
       "      <th>Asia</th>\n",
       "      <td>31.83</td>\n",
       "      <td>31.3</td>\n",
       "      <td>6.98</td>\n",
       "      <td>16.78</td>\n",
       "      <td>14.6</td>\n",
       "      <td>11.74</td>\n",
       "      <td>2.14</td>\n",
       "      <td>1.96</td>\n",
       "      <td>0.70</td>\n",
       "    </tr>\n",
       "    <tr>\n",
       "      <th>Europe</th>\n",
       "      <td>42.96</td>\n",
       "      <td>43.7</td>\n",
       "      <td>3.85</td>\n",
       "      <td>4.81</td>\n",
       "      <td>3.6</td>\n",
       "      <td>3.81</td>\n",
       "      <td>1.60</td>\n",
       "      <td>1.59</td>\n",
       "      <td>0.20</td>\n",
       "    </tr>\n",
       "    <tr>\n",
       "      <th>Oceania</th>\n",
       "      <td>30.30</td>\n",
       "      <td>29.4</td>\n",
       "      <td>5.24</td>\n",
       "      <td>14.10</td>\n",
       "      <td>12.1</td>\n",
       "      <td>9.08</td>\n",
       "      <td>2.34</td>\n",
       "      <td>2.23</td>\n",
       "      <td>0.52</td>\n",
       "    </tr>\n",
       "  </tbody>\n",
       "</table>\n",
       "</div>"
      ],
      "text/plain": [
       "         Median_age_both_sexes              Infant_Mortality_Rate_Both_Sexes  \\\n",
       "                          mean median   std                             mean   \n",
       "Region                                                                         \n",
       "Africa                   22.16   20.5  5.98                            41.07   \n",
       "Americas                 34.95   35.0  6.11                            12.14   \n",
       "Asia                     31.83   31.3  6.98                            16.78   \n",
       "Europe                   42.96   43.7  3.85                             4.81   \n",
       "Oceania                  30.30   29.4  5.24                            14.10   \n",
       "\n",
       "                       Total_Fertility_Rate               \n",
       "         median    std                 mean median   std  \n",
       "Region                                                    \n",
       "Africa     38.3  18.31                 3.76   3.66  1.18  \n",
       "Americas   11.0   6.96                 1.88   1.88  0.29  \n",
       "Asia       14.6  11.74                 2.14   1.96  0.70  \n",
       "Europe      3.6   3.81                 1.60   1.59  0.20  \n",
       "Oceania    12.1   9.08                 2.34   2.23  0.52  "
      ]
     },
     "execution_count": 18,
     "metadata": {},
     "output_type": "execute_result"
    }
   ],
   "source": [
    "# grouping the data by region and extracting their statistics\n",
    "\n",
    "grouped = df.groupby('Region')\n",
    "\n",
    "statistics = grouped.agg({\n",
    "    'Median_age_both_sexes': ['mean', 'median', 'std'],\n",
    "    'Infant_Mortality_Rate_Both_Sexes': ['mean', 'median', 'std'],\n",
    "    'Total_Fertility_Rate': ['mean', 'median', 'std']\n",
    "})\n",
    "\n",
    "statistics.round(2)"
   ]
  },
  {
   "cell_type": "code",
   "execution_count": 19,
   "metadata": {},
   "outputs": [
    {
     "data": {
      "text/html": [
       "<div>\n",
       "<style scoped>\n",
       "    .dataframe tbody tr th:only-of-type {\n",
       "        vertical-align: middle;\n",
       "    }\n",
       "\n",
       "    .dataframe tbody tr th {\n",
       "        vertical-align: top;\n",
       "    }\n",
       "\n",
       "    .dataframe thead th {\n",
       "        text-align: right;\n",
       "    }\n",
       "</style>\n",
       "<table border=\"1\" class=\"dataframe\">\n",
       "  <thead>\n",
       "    <tr style=\"text-align: right;\">\n",
       "      <th></th>\n",
       "      <th>Median_age_females</th>\n",
       "      <th>Median_age_males</th>\n",
       "      <th>Infant_Mortality_Rate_Males</th>\n",
       "      <th>Infant_Mortality_Rate_Females</th>\n",
       "      <th>Infant_Mortality_Rate_Both_Sexes</th>\n",
       "      <th>Total_Fertility_Rate</th>\n",
       "    </tr>\n",
       "    <tr>\n",
       "      <th>Region</th>\n",
       "      <th></th>\n",
       "      <th></th>\n",
       "      <th></th>\n",
       "      <th></th>\n",
       "      <th></th>\n",
       "      <th></th>\n",
       "    </tr>\n",
       "  </thead>\n",
       "  <tbody>\n",
       "    <tr>\n",
       "      <th>Africa</th>\n",
       "      <td>22.616364</td>\n",
       "      <td>21.703636</td>\n",
       "      <td>45.320000</td>\n",
       "      <td>36.681818</td>\n",
       "      <td>41.070909</td>\n",
       "      <td>3.755273</td>\n",
       "    </tr>\n",
       "    <tr>\n",
       "      <th>Americas</th>\n",
       "      <td>35.818367</td>\n",
       "      <td>34.071429</td>\n",
       "      <td>13.697959</td>\n",
       "      <td>10.512245</td>\n",
       "      <td>12.138776</td>\n",
       "      <td>1.878776</td>\n",
       "    </tr>\n",
       "    <tr>\n",
       "      <th>Asia</th>\n",
       "      <td>32.182353</td>\n",
       "      <td>31.239216</td>\n",
       "      <td>18.527451</td>\n",
       "      <td>14.945098</td>\n",
       "      <td>16.782353</td>\n",
       "      <td>2.143137</td>\n",
       "    </tr>\n",
       "    <tr>\n",
       "      <th>Europe</th>\n",
       "      <td>44.465306</td>\n",
       "      <td>41.485714</td>\n",
       "      <td>5.253061</td>\n",
       "      <td>4.348980</td>\n",
       "      <td>4.810204</td>\n",
       "      <td>1.597551</td>\n",
       "    </tr>\n",
       "    <tr>\n",
       "      <th>Oceania</th>\n",
       "      <td>30.976190</td>\n",
       "      <td>29.709524</td>\n",
       "      <td>16.085714</td>\n",
       "      <td>12.014286</td>\n",
       "      <td>14.100000</td>\n",
       "      <td>2.344286</td>\n",
       "    </tr>\n",
       "  </tbody>\n",
       "</table>\n",
       "</div>"
      ],
      "text/plain": [
       "          Median_age_females  Median_age_males  Infant_Mortality_Rate_Males  \\\n",
       "Region                                                                        \n",
       "Africa             22.616364         21.703636                    45.320000   \n",
       "Americas           35.818367         34.071429                    13.697959   \n",
       "Asia               32.182353         31.239216                    18.527451   \n",
       "Europe             44.465306         41.485714                     5.253061   \n",
       "Oceania            30.976190         29.709524                    16.085714   \n",
       "\n",
       "          Infant_Mortality_Rate_Females  Infant_Mortality_Rate_Both_Sexes  \\\n",
       "Region                                                                      \n",
       "Africa                        36.681818                         41.070909   \n",
       "Americas                      10.512245                         12.138776   \n",
       "Asia                          14.945098                         16.782353   \n",
       "Europe                         4.348980                          4.810204   \n",
       "Oceania                       12.014286                         14.100000   \n",
       "\n",
       "          Total_Fertility_Rate  \n",
       "Region                          \n",
       "Africa                3.755273  \n",
       "Americas              1.878776  \n",
       "Asia                  2.143137  \n",
       "Europe                1.597551  \n",
       "Oceania               2.344286  "
      ]
     },
     "execution_count": 19,
     "metadata": {},
     "output_type": "execute_result"
    }
   ],
   "source": [
    "# extracing the mean of the data grouped by region\n",
    "\n",
    "cols1= ['Region', 'Median_age_females', 'Median_age_males',\n",
    "        'Infant_Mortality_Rate_Males', 'Infant_Mortality_Rate_Females',\n",
    "       'Infant_Mortality_Rate_Both_Sexes', 'Total_Fertility_Rate']\n",
    "\n",
    "df2= df[cols1]\n",
    "grouped_data= df2.groupby('Region').mean()\n",
    "grouped_data"
   ]
  },
  {
   "cell_type": "code",
   "execution_count": 20,
   "metadata": {},
   "outputs": [
    {
     "data": {
      "text/html": [
       "<div>\n",
       "<style scoped>\n",
       "    .dataframe tbody tr th:only-of-type {\n",
       "        vertical-align: middle;\n",
       "    }\n",
       "\n",
       "    .dataframe tbody tr th {\n",
       "        vertical-align: top;\n",
       "    }\n",
       "\n",
       "    .dataframe thead th {\n",
       "        text-align: right;\n",
       "    }\n",
       "</style>\n",
       "<table border=\"1\" class=\"dataframe\">\n",
       "  <thead>\n",
       "    <tr style=\"text-align: right;\">\n",
       "      <th></th>\n",
       "      <th>Region</th>\n",
       "      <th>Median_age_females</th>\n",
       "      <th>Median_age_males</th>\n",
       "      <th>Infant_Mortality_Rate_Males</th>\n",
       "      <th>Infant_Mortality_Rate_Females</th>\n",
       "      <th>Infant_Mortality_Rate_Both_Sexes</th>\n",
       "      <th>Total_Fertility_Rate</th>\n",
       "    </tr>\n",
       "  </thead>\n",
       "  <tbody>\n",
       "    <tr>\n",
       "      <th>0</th>\n",
       "      <td>Africa</td>\n",
       "      <td>22.616364</td>\n",
       "      <td>21.703636</td>\n",
       "      <td>45.320000</td>\n",
       "      <td>36.681818</td>\n",
       "      <td>41.070909</td>\n",
       "      <td>3.755273</td>\n",
       "    </tr>\n",
       "    <tr>\n",
       "      <th>1</th>\n",
       "      <td>Americas</td>\n",
       "      <td>35.818367</td>\n",
       "      <td>34.071429</td>\n",
       "      <td>13.697959</td>\n",
       "      <td>10.512245</td>\n",
       "      <td>12.138776</td>\n",
       "      <td>1.878776</td>\n",
       "    </tr>\n",
       "    <tr>\n",
       "      <th>2</th>\n",
       "      <td>Asia</td>\n",
       "      <td>32.182353</td>\n",
       "      <td>31.239216</td>\n",
       "      <td>18.527451</td>\n",
       "      <td>14.945098</td>\n",
       "      <td>16.782353</td>\n",
       "      <td>2.143137</td>\n",
       "    </tr>\n",
       "    <tr>\n",
       "      <th>3</th>\n",
       "      <td>Europe</td>\n",
       "      <td>44.465306</td>\n",
       "      <td>41.485714</td>\n",
       "      <td>5.253061</td>\n",
       "      <td>4.348980</td>\n",
       "      <td>4.810204</td>\n",
       "      <td>1.597551</td>\n",
       "    </tr>\n",
       "    <tr>\n",
       "      <th>4</th>\n",
       "      <td>Oceania</td>\n",
       "      <td>30.976190</td>\n",
       "      <td>29.709524</td>\n",
       "      <td>16.085714</td>\n",
       "      <td>12.014286</td>\n",
       "      <td>14.100000</td>\n",
       "      <td>2.344286</td>\n",
       "    </tr>\n",
       "  </tbody>\n",
       "</table>\n",
       "</div>"
      ],
      "text/plain": [
       "     Region  Median_age_females  Median_age_males  \\\n",
       "0    Africa           22.616364         21.703636   \n",
       "1  Americas           35.818367         34.071429   \n",
       "2      Asia           32.182353         31.239216   \n",
       "3    Europe           44.465306         41.485714   \n",
       "4   Oceania           30.976190         29.709524   \n",
       "\n",
       "   Infant_Mortality_Rate_Males  Infant_Mortality_Rate_Females  \\\n",
       "0                    45.320000                      36.681818   \n",
       "1                    13.697959                      10.512245   \n",
       "2                    18.527451                      14.945098   \n",
       "3                     5.253061                       4.348980   \n",
       "4                    16.085714                      12.014286   \n",
       "\n",
       "   Infant_Mortality_Rate_Both_Sexes  Total_Fertility_Rate  \n",
       "0                         41.070909              3.755273  \n",
       "1                         12.138776              1.878776  \n",
       "2                         16.782353              2.143137  \n",
       "3                          4.810204              1.597551  \n",
       "4                         14.100000              2.344286  "
      ]
     },
     "execution_count": 20,
     "metadata": {},
     "output_type": "execute_result"
    }
   ],
   "source": [
    "grouped_data.reset_index(inplace= True)\n",
    "grouped_data"
   ]
  },
  {
   "cell_type": "code",
   "execution_count": 21,
   "metadata": {},
   "outputs": [
    {
     "data": {
      "image/png": "[encoded data removed]",
      "text/plain": [
       "<Figure size 720x360 with 1 Axes>"
      ]
     },
     "metadata": {
      "needs_background": "light"
     },
     "output_type": "display_data"
    }
   ],
   "source": [
    "# plotting a 2-sided barplot to show median age for males and females over all continents\n",
    "\n",
    "regions= ['Europe', 'Africa', 'Oceania', 'Americas', 'Asia']\n",
    "x_M = grouped_data['Median_age_males'] \n",
    "x_F = grouped_data['Median_age_females'] * -1\n",
    "\n",
    "plt.figure(figsize= (10,5))\n",
    "ax1 = sns.barplot(x=x_M, y=grouped_data['Region'],  order=regions, palette=\"Blues\", label= 'Males')\n",
    "ax2 = sns.barplot(x=x_F, y=grouped_data['Region'], order=regions, palette=\"Greens\", label= 'Females')\n",
    "plt.title(\"Median age of Females and Males 2023\")\n",
    "plt.legend()\n",
    "ticks = ax2.get_xticks()\n",
    "ax2.set_xticks(ticks)\n",
    "ax2.set_xticklabels([int(abs(x)) for x in ticks])\n",
    "plt.xlabel('')\n",
    "plt.ylabel('')\n",
    "ax1.set_xlim(-50, 50)\n",
    "plt.savefig('Median_Age.pdf')"
   ]
  },
  {
   "cell_type": "code",
   "execution_count": 22,
   "metadata": {
    "scrolled": false
   },
   "outputs": [
    {
     "data": {
      "image/png": "[encoded data removed]",
      "text/plain": [
       "<Figure size 720x360 with 1 Axes>"
      ]
     },
     "metadata": {
      "needs_background": "light"
     },
     "output_type": "display_data"
    }
   ],
   "source": [
    "# plotting a 2-sided barplot to show infant mortality rate for males and females over all continents\n",
    "\n",
    "regions= ['Europe', 'Africa', 'Oceania', 'Americas', 'Asia']\n",
    "x_M = grouped_data['Infant_Mortality_Rate_Males'] \n",
    "x_F = grouped_data['Infant_Mortality_Rate_Females'] * -1\n",
    "\n",
    "plt.figure(figsize= (10,5))\n",
    "ax1 = sns.barplot(x=x_M, y=grouped_data['Region'],  order=regions, palette=\"Blues\", label= 'Males')\n",
    "ax2 = sns.barplot(x=x_F, y=grouped_data['Region'], order=regions, palette=\"Greens\", label= 'Females')\n",
    "plt.title(\"Infant Mortality Rate\")\n",
    "plt.legend()\n",
    "ticks = ax2.get_xticks()\n",
    "ax2.set_xticks(ticks)\n",
    "ax2.set_xticklabels([int(abs(x)) for x in ticks])\n",
    "plt.xlabel('')\n",
    "plt.ylabel('')\n",
    "ax1.set_xlim(-50, 50);\n"
   ]
  },
  {
   "cell_type": "code",
   "execution_count": 23,
   "metadata": {
    "scrolled": false
   },
   "outputs": [
    {
     "data": {
      "image/png": "[encoded data removed]",
      "text/plain": [
       "<Figure size 720x576 with 1 Axes>"
      ]
     },
     "metadata": {
      "needs_background": "light"
     },
     "output_type": "display_data"
    }
   ],
   "source": [
    "# another barplot for median age males and females by region\n",
    "\n",
    "grouped_data[['Region', 'Median_age_females', 'Median_age_males']].plot(kind= 'bar', x= 'Region', figsize= (10, 8),\n",
    "                  xlabel= 'Region', ylabel= 'Median Age',\n",
    "                  title= 'Median Age for diff sexs by Region');"
   ]
  },
  {
   "cell_type": "code",
   "execution_count": 24,
   "metadata": {},
   "outputs": [
    {
     "data": {
      "image/png": "[encoded data removed]",
      "text/plain": [
       "<Figure size 720x576 with 1 Axes>"
      ]
     },
     "metadata": {
      "needs_background": "light"
     },
     "output_type": "display_data"
    }
   ],
   "source": [
    "# a barplot for infant mortality rate for males and females by region\n",
    "\n",
    "grouped_data[['Region','Infant_Mortality_Rate_Males', 'Infant_Mortality_Rate_Females', 'Infant_Mortality_Rate_Both_Sexes']].plot(kind= 'bar', x= 'Region', figsize= (10, 8),\n",
    "                  xlabel= 'Region', ylabel= 'Infant Mortality rate',\n",
    "                  title= 'Mortality Rate by Sex and Regions');"
   ]
  },
  {
   "cell_type": "code",
   "execution_count": 25,
   "metadata": {
    "scrolled": false
   },
   "outputs": [
    {
     "data": {
      "image/png": "[encoded data removed]",
      "text/plain": [
       "<Figure size 576x432 with 1 Axes>"
      ]
     },
     "metadata": {
      "needs_background": "light"
     },
     "output_type": "display_data"
    }
   ],
   "source": [
    "# barplot for total mortality rate by region\n",
    "\n",
    "grouped_data[['Region', 'Total_Fertility_Rate']].plot(kind= 'bar', x= 'Region', figsize= (8, 6),\n",
    "                  xlabel= 'Region', ylabel= 'Fertility Rate',\n",
    "                  title= 'Total Fertility Rate by Region');"
   ]
  },
  {
   "cell_type": "code",
   "execution_count": 26,
   "metadata": {},
   "outputs": [
    {
     "data": {
      "image/png": "[encoded data removed]",
      "text/plain": [
       "<Figure size 720x432 with 1 Axes>"
      ]
     },
     "metadata": {
      "needs_background": "light"
     },
     "output_type": "display_data"
    }
   ],
   "source": [
    "# a box plot for infant mortality rate males and females showing the ranges and domains by region\n",
    "\n",
    "melted_data_mortality_rate = pd.melt(df[['Region','Infant_Mortality_Rate_Males', 'Infant_Mortality_Rate_Females']],\n",
    "                   id_vars=[\"Region\"], var_name=\"Gender\", value_name=\"Mortality Rate\")\n",
    "\n",
    "sns.color_palette(\"rocket\", as_cmap=True)\n",
    "plt.figure(figsize=(10, 6))\n",
    "sns.boxplot(data=melted_data_mortality_rate, x=\"Region\", y=\"Mortality Rate\", hue=\"Gender\")\n",
    "plt.title(\"Mortality Rate by Region and Gender\")\n",
    "plt.ylabel(\"Mortality Rate\")\n",
    "plt.xlabel(\"Region\")\n",
    "\n",
    "plt.savefig(\"Mortality-Gender_Region.png\")\n",
    "plt.show()\n"
   ]
  },
  {
   "cell_type": "code",
   "execution_count": 27,
   "metadata": {
    "scrolled": false
   },
   "outputs": [
    {
     "data": {
      "image/png": "[encoded data removed]",
      "text/plain": [
       "<Figure size 720x432 with 1 Axes>"
      ]
     },
     "metadata": {
      "needs_background": "light"
     },
     "output_type": "display_data"
    }
   ],
   "source": [
    "# a boxplot showing infant mortality rate both sexes by region\n",
    "\n",
    "plt.figure(figsize=(10, 6))\n",
    "sns.set_palette(\"Paired\")\n",
    "\n",
    "sns.boxplot(data=df[['Region', 'Infant_Mortality_Rate_Both_Sexes']], x=\"Region\", y=\"Infant_Mortality_Rate_Both_Sexes\")\n",
    "plt.title(\"Infant Mortality Rate both sexes by Region\")\n",
    "plt.ylabel(\"Mortality Rate\")\n",
    "plt.xlabel(\"Region\")\n",
    "plt.savefig('Infant Mortality Rate.pdf')\n",
    "\n",
    "plt.show()\n"
   ]
  },
  {
   "cell_type": "code",
   "execution_count": 28,
   "metadata": {},
   "outputs": [
    {
     "data": {
      "image/png": "[encoded data removed]",
      "text/plain": [
       "<Figure size 720x432 with 1 Axes>"
      ]
     },
     "metadata": {
      "needs_background": "light"
     },
     "output_type": "display_data"
    }
   ],
   "source": [
    "# boxplot showing total fertility rate by region\n",
    "\n",
    "plt.figure(figsize=(10, 6))\n",
    "sns.set_palette(\"Paired\")\n",
    "sns.boxplot(data=df[['Region', 'Total_Fertility_Rate']], x=\"Region\", y=\"Total_Fertility_Rate\")\n",
    "plt.title(\"Total Fertility Rate by Region\")\n",
    "plt.ylabel(\"Fertility Rate\")\n",
    "plt.xlabel(\"Region\")\n",
    "plt.savefig('Total_Fertility_Rate.pdf')\n",
    "plt.show()\n"
   ]
  },
  {
   "cell_type": "code",
   "execution_count": 29,
   "metadata": {},
   "outputs": [
    {
     "data": {
      "image/png": "[encoded data removed]",
      "text/plain": [
       "<Figure size 720x432 with 1 Axes>"
      ]
     },
     "metadata": {
      "needs_background": "light"
     },
     "output_type": "display_data"
    }
   ],
   "source": [
    "# a box plot for median age males and females showing the ranges and domains by region\n",
    "\n",
    "\n",
    "melted_data_median_age = pd.melt(df[['Region','Median_age_females', 'Median_age_males']],\n",
    "                   id_vars=[\"Region\"], var_name=\"Gender\", value_name=\"Median Age\")\n",
    "\n",
    "plt.figure(figsize=(10, 6))\n",
    "sns.boxplot(data=melted_data_median_age, x=\"Region\", y=\"Median Age\", hue=\"Gender\")\n",
    "plt.title(\"Median age by Region by Gender\")\n",
    "plt.ylabel(\"Median Age\")\n",
    "plt.xlabel(\"Region\")\n",
    "plt.savefig(\"Age_by_region.pdf\")\n",
    "\n",
    "plt.show()\n"
   ]
  },
  {
   "cell_type": "markdown",
   "metadata": {},
   "source": [
    "## Task 2:"
   ]
  },
  {
   "cell_type": "code",
   "execution_count": 30,
   "metadata": {},
   "outputs": [
    {
     "data": {
      "text/html": [
       "<div>\n",
       "<style scoped>\n",
       "    .dataframe tbody tr th:only-of-type {\n",
       "        vertical-align: middle;\n",
       "    }\n",
       "\n",
       "    .dataframe tbody tr th {\n",
       "        vertical-align: top;\n",
       "    }\n",
       "\n",
       "    .dataframe thead th {\n",
       "        text-align: right;\n",
       "    }\n",
       "</style>\n",
       "<table border=\"1\" class=\"dataframe\">\n",
       "  <thead>\n",
       "    <tr style=\"text-align: right;\">\n",
       "      <th></th>\n",
       "      <th>Country.Name</th>\n",
       "      <th>Region</th>\n",
       "      <th>Subregion</th>\n",
       "      <th>Median_age_both_sexes</th>\n",
       "      <th>Median_age_females</th>\n",
       "      <th>Median_age_males</th>\n",
       "      <th>Total_Fertility_Rate</th>\n",
       "      <th>Infant_Mortality_Rate_Both_Sexes</th>\n",
       "      <th>Infant_Mortality_Rate_Males</th>\n",
       "      <th>Infant_Mortality_Rate_Females</th>\n",
       "    </tr>\n",
       "  </thead>\n",
       "  <tbody>\n",
       "    <tr>\n",
       "      <th>0</th>\n",
       "      <td>Albania</td>\n",
       "      <td>Europe</td>\n",
       "      <td>Southern Europe</td>\n",
       "      <td>35.8</td>\n",
       "      <td>37.2</td>\n",
       "      <td>34.3</td>\n",
       "      <td>1.55</td>\n",
       "      <td>10.5</td>\n",
       "      <td>11.6</td>\n",
       "      <td>9.5</td>\n",
       "    </tr>\n",
       "    <tr>\n",
       "      <th>1</th>\n",
       "      <td>Algeria</td>\n",
       "      <td>Africa</td>\n",
       "      <td>Northern Africa</td>\n",
       "      <td>28.9</td>\n",
       "      <td>29.2</td>\n",
       "      <td>28.6</td>\n",
       "      <td>2.97</td>\n",
       "      <td>18.8</td>\n",
       "      <td>19.9</td>\n",
       "      <td>17.6</td>\n",
       "    </tr>\n",
       "    <tr>\n",
       "      <th>2</th>\n",
       "      <td>Andorra</td>\n",
       "      <td>Europe</td>\n",
       "      <td>Southern Europe</td>\n",
       "      <td>48.1</td>\n",
       "      <td>48.1</td>\n",
       "      <td>48.1</td>\n",
       "      <td>1.46</td>\n",
       "      <td>3.4</td>\n",
       "      <td>3.5</td>\n",
       "      <td>3.3</td>\n",
       "    </tr>\n",
       "    <tr>\n",
       "      <th>3</th>\n",
       "      <td>Angola</td>\n",
       "      <td>Africa</td>\n",
       "      <td>Middle Africa</td>\n",
       "      <td>16.2</td>\n",
       "      <td>16.7</td>\n",
       "      <td>15.7</td>\n",
       "      <td>5.76</td>\n",
       "      <td>57.2</td>\n",
       "      <td>62.4</td>\n",
       "      <td>51.9</td>\n",
       "    </tr>\n",
       "    <tr>\n",
       "      <th>4</th>\n",
       "      <td>Austria</td>\n",
       "      <td>Europe</td>\n",
       "      <td>Western Europe</td>\n",
       "      <td>44.8</td>\n",
       "      <td>46.2</td>\n",
       "      <td>43.5</td>\n",
       "      <td>1.51</td>\n",
       "      <td>3.2</td>\n",
       "      <td>3.6</td>\n",
       "      <td>2.8</td>\n",
       "    </tr>\n",
       "    <tr>\n",
       "      <th>...</th>\n",
       "      <td>...</td>\n",
       "      <td>...</td>\n",
       "      <td>...</td>\n",
       "      <td>...</td>\n",
       "      <td>...</td>\n",
       "      <td>...</td>\n",
       "      <td>...</td>\n",
       "      <td>...</td>\n",
       "      <td>...</td>\n",
       "      <td>...</td>\n",
       "    </tr>\n",
       "    <tr>\n",
       "      <th>99</th>\n",
       "      <td>Uganda</td>\n",
       "      <td>Africa</td>\n",
       "      <td>Eastern Africa</td>\n",
       "      <td>16.1</td>\n",
       "      <td>16.9</td>\n",
       "      <td>15.3</td>\n",
       "      <td>5.26</td>\n",
       "      <td>29.4</td>\n",
       "      <td>32.8</td>\n",
       "      <td>26.0</td>\n",
       "    </tr>\n",
       "    <tr>\n",
       "      <th>100</th>\n",
       "      <td>Ukraine</td>\n",
       "      <td>Europe</td>\n",
       "      <td>Eastern Europe</td>\n",
       "      <td>45.3</td>\n",
       "      <td>50.0</td>\n",
       "      <td>41.3</td>\n",
       "      <td>1.22</td>\n",
       "      <td>9.0</td>\n",
       "      <td>10.1</td>\n",
       "      <td>7.9</td>\n",
       "    </tr>\n",
       "    <tr>\n",
       "      <th>101</th>\n",
       "      <td>United Kingdom</td>\n",
       "      <td>Europe</td>\n",
       "      <td>Northern Europe</td>\n",
       "      <td>40.6</td>\n",
       "      <td>41.4</td>\n",
       "      <td>39.9</td>\n",
       "      <td>1.63</td>\n",
       "      <td>3.8</td>\n",
       "      <td>4.3</td>\n",
       "      <td>3.3</td>\n",
       "    </tr>\n",
       "    <tr>\n",
       "      <th>102</th>\n",
       "      <td>Zambia</td>\n",
       "      <td>Africa</td>\n",
       "      <td>Eastern Africa</td>\n",
       "      <td>18.2</td>\n",
       "      <td>18.4</td>\n",
       "      <td>18.0</td>\n",
       "      <td>4.49</td>\n",
       "      <td>36.3</td>\n",
       "      <td>39.7</td>\n",
       "      <td>32.8</td>\n",
       "    </tr>\n",
       "    <tr>\n",
       "      <th>103</th>\n",
       "      <td>Zimbabwe</td>\n",
       "      <td>Africa</td>\n",
       "      <td>Eastern Africa</td>\n",
       "      <td>21.0</td>\n",
       "      <td>21.8</td>\n",
       "      <td>20.2</td>\n",
       "      <td>3.51</td>\n",
       "      <td>34.0</td>\n",
       "      <td>37.7</td>\n",
       "      <td>30.2</td>\n",
       "    </tr>\n",
       "  </tbody>\n",
       "</table>\n",
       "<p>104 rows × 10 columns</p>\n",
       "</div>"
      ],
      "text/plain": [
       "       Country.Name  Region        Subregion  Median_age_both_sexes  \\\n",
       "0           Albania  Europe  Southern Europe                   35.8   \n",
       "1           Algeria  Africa  Northern Africa                   28.9   \n",
       "2           Andorra  Europe  Southern Europe                   48.1   \n",
       "3            Angola  Africa    Middle Africa                   16.2   \n",
       "4           Austria  Europe   Western Europe                   44.8   \n",
       "..              ...     ...              ...                    ...   \n",
       "99           Uganda  Africa   Eastern Africa                   16.1   \n",
       "100         Ukraine  Europe   Eastern Europe                   45.3   \n",
       "101  United Kingdom  Europe  Northern Europe                   40.6   \n",
       "102          Zambia  Africa   Eastern Africa                   18.2   \n",
       "103        Zimbabwe  Africa   Eastern Africa                   21.0   \n",
       "\n",
       "     Median_age_females  Median_age_males  Total_Fertility_Rate  \\\n",
       "0                  37.2              34.3                  1.55   \n",
       "1                  29.2              28.6                  2.97   \n",
       "2                  48.1              48.1                  1.46   \n",
       "3                  16.7              15.7                  5.76   \n",
       "4                  46.2              43.5                  1.51   \n",
       "..                  ...               ...                   ...   \n",
       "99                 16.9              15.3                  5.26   \n",
       "100                50.0              41.3                  1.22   \n",
       "101                41.4              39.9                  1.63   \n",
       "102                18.4              18.0                  4.49   \n",
       "103                21.8              20.2                  3.51   \n",
       "\n",
       "     Infant_Mortality_Rate_Both_Sexes  Infant_Mortality_Rate_Males  \\\n",
       "0                                10.5                         11.6   \n",
       "1                                18.8                         19.9   \n",
       "2                                 3.4                          3.5   \n",
       "3                                57.2                         62.4   \n",
       "4                                 3.2                          3.6   \n",
       "..                                ...                          ...   \n",
       "99                               29.4                         32.8   \n",
       "100                               9.0                         10.1   \n",
       "101                               3.8                          4.3   \n",
       "102                              36.3                         39.7   \n",
       "103                              34.0                         37.7   \n",
       "\n",
       "     Infant_Mortality_Rate_Females  \n",
       "0                              9.5  \n",
       "1                             17.6  \n",
       "2                              3.3  \n",
       "3                             51.9  \n",
       "4                              2.8  \n",
       "..                             ...  \n",
       "99                            26.0  \n",
       "100                            7.9  \n",
       "101                            3.3  \n",
       "102                           32.8  \n",
       "103                           30.2  \n",
       "\n",
       "[104 rows x 10 columns]"
      ]
     },
     "execution_count": 30,
     "metadata": {},
     "output_type": "execute_result"
    }
   ],
   "source": [
    "# selecting the data for Europe and Africa grouped by region\n",
    "\n",
    "df_reg= df[df['Region'].isin(['Europe','Africa'])].reset_index(drop= True).drop(columns= ['Year'])\n",
    "\n",
    "df_reg"
   ]
  },
  {
   "cell_type": "code",
   "execution_count": 31,
   "metadata": {},
   "outputs": [
    {
     "name": "stdout",
     "output_type": "stream",
     "text": [
      "Median_age_both_sexes               42.961224\n",
      "Median_age_females                  44.465306\n",
      "Median_age_males                    41.485714\n",
      "Total_Fertility_Rate                 1.597551\n",
      "Infant_Mortality_Rate_Both_Sexes     4.810204\n",
      "Infant_Mortality_Rate_Males          5.253061\n",
      "Infant_Mortality_Rate_Females        4.348980\n",
      "dtype: float64 \n",
      " \n",
      " Median_age_both_sexes               22.163636\n",
      "Median_age_females                  22.616364\n",
      "Median_age_males                    21.703636\n",
      "Total_Fertility_Rate                 3.755273\n",
      "Infant_Mortality_Rate_Both_Sexes    41.070909\n",
      "Infant_Mortality_Rate_Males         45.320000\n",
      "Infant_Mortality_Rate_Females       36.681818\n",
      "dtype: float64\n"
     ]
    }
   ],
   "source": [
    "# extracing the mean of the data from europe and africa\n",
    "\n",
    "mean_europe= df_reg[df_reg['Region']== 'Europe'].mean()\n",
    "mean_africa= df_reg[df_reg['Region'] == 'Africa'].mean()\n",
    "print(mean_europe,'\\n \\n', mean_africa)"
   ]
  },
  {
   "cell_type": "code",
   "execution_count": 32,
   "metadata": {},
   "outputs": [],
   "source": [
    "# grouping the data by region and subregion\n",
    "\n",
    "grouped_data= df_reg.groupby(['Region', 'Subregion'])"
   ]
  },
  {
   "cell_type": "code",
   "execution_count": 33,
   "metadata": {
    "scrolled": true
   },
   "outputs": [
    {
     "data": {
      "text/html": [
       "<div>\n",
       "<style scoped>\n",
       "    .dataframe tbody tr th:only-of-type {\n",
       "        vertical-align: middle;\n",
       "    }\n",
       "\n",
       "    .dataframe tbody tr th {\n",
       "        vertical-align: top;\n",
       "    }\n",
       "\n",
       "    .dataframe thead th {\n",
       "        text-align: right;\n",
       "    }\n",
       "</style>\n",
       "<table border=\"1\" class=\"dataframe\">\n",
       "  <thead>\n",
       "    <tr style=\"text-align: right;\">\n",
       "      <th></th>\n",
       "      <th></th>\n",
       "      <th>Total_Fertility_Rate</th>\n",
       "      <th>Infant_Mortality_Rate_Both_Sexes</th>\n",
       "      <th>Infant_Mortality_Rate_Males</th>\n",
       "      <th>Infant_Mortality_Rate_Females</th>\n",
       "    </tr>\n",
       "    <tr>\n",
       "      <th>Region</th>\n",
       "      <th>Subregion</th>\n",
       "      <th></th>\n",
       "      <th></th>\n",
       "      <th></th>\n",
       "      <th></th>\n",
       "    </tr>\n",
       "  </thead>\n",
       "  <tbody>\n",
       "    <tr>\n",
       "      <th rowspan=\"5\" valign=\"top\">Africa</th>\n",
       "      <th>Eastern Africa</th>\n",
       "      <td>1.161803</td>\n",
       "      <td>17.683922</td>\n",
       "      <td>19.543633</td>\n",
       "      <td>15.943374</td>\n",
       "    </tr>\n",
       "    <tr>\n",
       "      <th>Middle Africa</th>\n",
       "      <td>0.923446</td>\n",
       "      <td>18.805983</td>\n",
       "      <td>20.013371</td>\n",
       "      <td>17.588238</td>\n",
       "    </tr>\n",
       "    <tr>\n",
       "      <th>Northern Africa</th>\n",
       "      <td>1.186991</td>\n",
       "      <td>18.785341</td>\n",
       "      <td>20.772372</td>\n",
       "      <td>16.784488</td>\n",
       "    </tr>\n",
       "    <tr>\n",
       "      <th>Southern Africa</th>\n",
       "      <td>0.302275</td>\n",
       "      <td>9.839563</td>\n",
       "      <td>11.302212</td>\n",
       "      <td>8.404939</td>\n",
       "    </tr>\n",
       "    <tr>\n",
       "      <th>Western Africa</th>\n",
       "      <td>1.199359</td>\n",
       "      <td>14.565176</td>\n",
       "      <td>15.222765</td>\n",
       "      <td>13.939554</td>\n",
       "    </tr>\n",
       "    <tr>\n",
       "      <th rowspan=\"4\" valign=\"top\">Europe</th>\n",
       "      <th>Eastern Europe</th>\n",
       "      <td>0.172784</td>\n",
       "      <td>3.445593</td>\n",
       "      <td>4.017241</td>\n",
       "      <td>2.827425</td>\n",
       "    </tr>\n",
       "    <tr>\n",
       "      <th>Northern Europe</th>\n",
       "      <td>0.195679</td>\n",
       "      <td>1.179122</td>\n",
       "      <td>1.291158</td>\n",
       "      <td>1.067708</td>\n",
       "    </tr>\n",
       "    <tr>\n",
       "      <th>Southern Europe</th>\n",
       "      <td>0.191551</td>\n",
       "      <td>5.570334</td>\n",
       "      <td>5.944125</td>\n",
       "      <td>5.236411</td>\n",
       "    </tr>\n",
       "    <tr>\n",
       "      <th>Western Europe</th>\n",
       "      <td>0.123906</td>\n",
       "      <td>0.600231</td>\n",
       "      <td>0.600925</td>\n",
       "      <td>0.596052</td>\n",
       "    </tr>\n",
       "  </tbody>\n",
       "</table>\n",
       "</div>"
      ],
      "text/plain": [
       "                        Total_Fertility_Rate  \\\n",
       "Region Subregion                               \n",
       "Africa Eastern Africa               1.161803   \n",
       "       Middle Africa                0.923446   \n",
       "       Northern Africa              1.186991   \n",
       "       Southern Africa              0.302275   \n",
       "       Western Africa               1.199359   \n",
       "Europe Eastern Europe               0.172784   \n",
       "       Northern Europe              0.195679   \n",
       "       Southern Europe              0.191551   \n",
       "       Western Europe               0.123906   \n",
       "\n",
       "                        Infant_Mortality_Rate_Both_Sexes  \\\n",
       "Region Subregion                                           \n",
       "Africa Eastern Africa                          17.683922   \n",
       "       Middle Africa                           18.805983   \n",
       "       Northern Africa                         18.785341   \n",
       "       Southern Africa                          9.839563   \n",
       "       Western Africa                          14.565176   \n",
       "Europe Eastern Europe                           3.445593   \n",
       "       Northern Europe                          1.179122   \n",
       "       Southern Europe                          5.570334   \n",
       "       Western Europe                           0.600231   \n",
       "\n",
       "                        Infant_Mortality_Rate_Males  \\\n",
       "Region Subregion                                      \n",
       "Africa Eastern Africa                     19.543633   \n",
       "       Middle Africa                      20.013371   \n",
       "       Northern Africa                    20.772372   \n",
       "       Southern Africa                    11.302212   \n",
       "       Western Africa                     15.222765   \n",
       "Europe Eastern Europe                      4.017241   \n",
       "       Northern Europe                     1.291158   \n",
       "       Southern Europe                     5.944125   \n",
       "       Western Europe                      0.600925   \n",
       "\n",
       "                        Infant_Mortality_Rate_Females  \n",
       "Region Subregion                                       \n",
       "Africa Eastern Africa                       15.943374  \n",
       "       Middle Africa                        17.588238  \n",
       "       Northern Africa                      16.784488  \n",
       "       Southern Africa                       8.404939  \n",
       "       Western Africa                       13.939554  \n",
       "Europe Eastern Europe                        2.827425  \n",
       "       Northern Europe                       1.067708  \n",
       "       Southern Europe                       5.236411  \n",
       "       Western Europe                        0.596052  "
      ]
     },
     "execution_count": 33,
     "metadata": {},
     "output_type": "execute_result"
    }
   ],
   "source": [
    "# calculating the standard deviation of the grouped data for variables\n",
    "\n",
    "grouped_data_f= grouped_data[['Total_Fertility_Rate','Infant_Mortality_Rate_Both_Sexes',\n",
    "                              'Infant_Mortality_Rate_Males','Infant_Mortality_Rate_Females']].std()\n",
    "grouped_data_f"
   ]
  },
  {
   "cell_type": "code",
   "execution_count": 34,
   "metadata": {},
   "outputs": [
    {
     "data": {
      "text/html": [
       "<div>\n",
       "<style scoped>\n",
       "    .dataframe tbody tr th:only-of-type {\n",
       "        vertical-align: middle;\n",
       "    }\n",
       "\n",
       "    .dataframe tbody tr th {\n",
       "        vertical-align: top;\n",
       "    }\n",
       "\n",
       "    .dataframe thead tr th {\n",
       "        text-align: left;\n",
       "    }\n",
       "\n",
       "    .dataframe thead tr:last-of-type th {\n",
       "        text-align: right;\n",
       "    }\n",
       "</style>\n",
       "<table border=\"1\" class=\"dataframe\">\n",
       "  <thead>\n",
       "    <tr>\n",
       "      <th></th>\n",
       "      <th colspan=\"2\" halign=\"left\">Median_age_both_sexes</th>\n",
       "      <th colspan=\"2\" halign=\"left\">Median_age_females</th>\n",
       "      <th colspan=\"2\" halign=\"left\">Median_age_males</th>\n",
       "      <th colspan=\"2\" halign=\"left\">Total_Fertility_Rate</th>\n",
       "      <th colspan=\"2\" halign=\"left\">Infant_Mortality_Rate_Both_Sexes</th>\n",
       "      <th colspan=\"2\" halign=\"left\">Infant_Mortality_Rate_Males</th>\n",
       "      <th colspan=\"2\" halign=\"left\">Infant_Mortality_Rate_Females</th>\n",
       "    </tr>\n",
       "    <tr>\n",
       "      <th></th>\n",
       "      <th>mean</th>\n",
       "      <th>std</th>\n",
       "      <th>mean</th>\n",
       "      <th>std</th>\n",
       "      <th>mean</th>\n",
       "      <th>std</th>\n",
       "      <th>mean</th>\n",
       "      <th>std</th>\n",
       "      <th>mean</th>\n",
       "      <th>std</th>\n",
       "      <th>mean</th>\n",
       "      <th>std</th>\n",
       "      <th>mean</th>\n",
       "      <th>std</th>\n",
       "    </tr>\n",
       "    <tr>\n",
       "      <th>Region</th>\n",
       "      <th></th>\n",
       "      <th></th>\n",
       "      <th></th>\n",
       "      <th></th>\n",
       "      <th></th>\n",
       "      <th></th>\n",
       "      <th></th>\n",
       "      <th></th>\n",
       "      <th></th>\n",
       "      <th></th>\n",
       "      <th></th>\n",
       "      <th></th>\n",
       "      <th></th>\n",
       "      <th></th>\n",
       "    </tr>\n",
       "  </thead>\n",
       "  <tbody>\n",
       "    <tr>\n",
       "      <th>Africa</th>\n",
       "      <td>22.163636</td>\n",
       "      <td>5.981495</td>\n",
       "      <td>22.616364</td>\n",
       "      <td>6.070809</td>\n",
       "      <td>21.703636</td>\n",
       "      <td>5.905238</td>\n",
       "      <td>3.755273</td>\n",
       "      <td>1.182826</td>\n",
       "      <td>41.070909</td>\n",
       "      <td>18.310447</td>\n",
       "      <td>45.320000</td>\n",
       "      <td>19.782516</td>\n",
       "      <td>36.681818</td>\n",
       "      <td>16.891134</td>\n",
       "    </tr>\n",
       "    <tr>\n",
       "      <th>Europe</th>\n",
       "      <td>42.961224</td>\n",
       "      <td>3.853938</td>\n",
       "      <td>44.465306</td>\n",
       "      <td>4.236033</td>\n",
       "      <td>41.485714</td>\n",
       "      <td>3.644231</td>\n",
       "      <td>1.597551</td>\n",
       "      <td>0.200443</td>\n",
       "      <td>4.810204</td>\n",
       "      <td>3.811181</td>\n",
       "      <td>5.253061</td>\n",
       "      <td>4.131944</td>\n",
       "      <td>4.348980</td>\n",
       "      <td>3.511061</td>\n",
       "    </tr>\n",
       "  </tbody>\n",
       "</table>\n",
       "</div>"
      ],
      "text/plain": [
       "       Median_age_both_sexes           Median_age_females            \\\n",
       "                        mean       std               mean       std   \n",
       "Region                                                                \n",
       "Africa             22.163636  5.981495          22.616364  6.070809   \n",
       "Europe             42.961224  3.853938          44.465306  4.236033   \n",
       "\n",
       "       Median_age_males           Total_Fertility_Rate            \\\n",
       "                   mean       std                 mean       std   \n",
       "Region                                                             \n",
       "Africa        21.703636  5.905238             3.755273  1.182826   \n",
       "Europe        41.485714  3.644231             1.597551  0.200443   \n",
       "\n",
       "       Infant_Mortality_Rate_Both_Sexes             \\\n",
       "                                   mean        std   \n",
       "Region                                               \n",
       "Africa                        41.070909  18.310447   \n",
       "Europe                         4.810204   3.811181   \n",
       "\n",
       "       Infant_Mortality_Rate_Males            Infant_Mortality_Rate_Females  \\\n",
       "                              mean        std                          mean   \n",
       "Region                                                                        \n",
       "Africa                   45.320000  19.782516                     36.681818   \n",
       "Europe                    5.253061   4.131944                      4.348980   \n",
       "\n",
       "                   \n",
       "              std  \n",
       "Region             \n",
       "Africa  16.891134  \n",
       "Europe   3.511061  "
      ]
     },
     "execution_count": 34,
     "metadata": {},
     "output_type": "execute_result"
    }
   ],
   "source": [
    "# calculating the mean and std for Africa and Europe\n",
    "\n",
    "grouped_mean= df_reg.groupby('Region').agg(['mean', 'std'])\n",
    "grouped_mean\n"
   ]
  },
  {
   "cell_type": "code",
   "execution_count": 35,
   "metadata": {},
   "outputs": [
    {
     "data": {
      "text/html": [
       "<div>\n",
       "<style scoped>\n",
       "    .dataframe tbody tr th:only-of-type {\n",
       "        vertical-align: middle;\n",
       "    }\n",
       "\n",
       "    .dataframe tbody tr th {\n",
       "        vertical-align: top;\n",
       "    }\n",
       "\n",
       "    .dataframe thead tr th {\n",
       "        text-align: left;\n",
       "    }\n",
       "\n",
       "    .dataframe thead tr:last-of-type th {\n",
       "        text-align: right;\n",
       "    }\n",
       "</style>\n",
       "<table border=\"1\" class=\"dataframe\">\n",
       "  <thead>\n",
       "    <tr>\n",
       "      <th></th>\n",
       "      <th></th>\n",
       "      <th colspan=\"2\" halign=\"left\">Median_age_both_sexes</th>\n",
       "      <th colspan=\"2\" halign=\"left\">Total_Fertility_Rate</th>\n",
       "      <th colspan=\"2\" halign=\"left\">Infant_Mortality_Rate_Both_Sexes</th>\n",
       "    </tr>\n",
       "    <tr>\n",
       "      <th></th>\n",
       "      <th></th>\n",
       "      <th>mean</th>\n",
       "      <th>std</th>\n",
       "      <th>mean</th>\n",
       "      <th>std</th>\n",
       "      <th>mean</th>\n",
       "      <th>std</th>\n",
       "    </tr>\n",
       "    <tr>\n",
       "      <th>Region</th>\n",
       "      <th>Subregion</th>\n",
       "      <th></th>\n",
       "      <th></th>\n",
       "      <th></th>\n",
       "      <th></th>\n",
       "      <th></th>\n",
       "      <th></th>\n",
       "    </tr>\n",
       "  </thead>\n",
       "  <tbody>\n",
       "    <tr>\n",
       "      <th rowspan=\"5\" valign=\"top\">Africa</th>\n",
       "      <th>Eastern Africa</th>\n",
       "      <td>22.24</td>\n",
       "      <td>6.60</td>\n",
       "      <td>3.60</td>\n",
       "      <td>1.16</td>\n",
       "      <td>37.29</td>\n",
       "      <td>17.68</td>\n",
       "    </tr>\n",
       "    <tr>\n",
       "      <th>Middle Africa</th>\n",
       "      <td>19.23</td>\n",
       "      <td>2.25</td>\n",
       "      <td>4.43</td>\n",
       "      <td>0.92</td>\n",
       "      <td>54.43</td>\n",
       "      <td>18.81</td>\n",
       "    </tr>\n",
       "    <tr>\n",
       "      <th>Northern Africa</th>\n",
       "      <td>25.87</td>\n",
       "      <td>5.69</td>\n",
       "      <td>3.25</td>\n",
       "      <td>1.19</td>\n",
       "      <td>25.77</td>\n",
       "      <td>18.79</td>\n",
       "    </tr>\n",
       "    <tr>\n",
       "      <th>Southern Africa</th>\n",
       "      <td>25.50</td>\n",
       "      <td>3.01</td>\n",
       "      <td>2.58</td>\n",
       "      <td>0.30</td>\n",
       "      <td>32.52</td>\n",
       "      <td>9.84</td>\n",
       "    </tr>\n",
       "    <tr>\n",
       "      <th>Western Africa</th>\n",
       "      <td>21.14</td>\n",
       "      <td>6.70</td>\n",
       "      <td>4.10</td>\n",
       "      <td>1.20</td>\n",
       "      <td>46.59</td>\n",
       "      <td>14.57</td>\n",
       "    </tr>\n",
       "    <tr>\n",
       "      <th rowspan=\"4\" valign=\"top\">Europe</th>\n",
       "      <th>Eastern Europe</th>\n",
       "      <td>43.10</td>\n",
       "      <td>1.92</td>\n",
       "      <td>1.48</td>\n",
       "      <td>0.17</td>\n",
       "      <td>6.31</td>\n",
       "      <td>3.45</td>\n",
       "    </tr>\n",
       "    <tr>\n",
       "      <th>Northern Europe</th>\n",
       "      <td>41.75</td>\n",
       "      <td>2.95</td>\n",
       "      <td>1.73</td>\n",
       "      <td>0.20</td>\n",
       "      <td>3.34</td>\n",
       "      <td>1.18</td>\n",
       "    </tr>\n",
       "    <tr>\n",
       "      <th>Southern Europe</th>\n",
       "      <td>42.97</td>\n",
       "      <td>4.75</td>\n",
       "      <td>1.53</td>\n",
       "      <td>0.19</td>\n",
       "      <td>6.09</td>\n",
       "      <td>5.57</td>\n",
       "    </tr>\n",
       "    <tr>\n",
       "      <th>Western Europe</th>\n",
       "      <td>44.68</td>\n",
       "      <td>4.75</td>\n",
       "      <td>1.65</td>\n",
       "      <td>0.12</td>\n",
       "      <td>3.14</td>\n",
       "      <td>0.60</td>\n",
       "    </tr>\n",
       "  </tbody>\n",
       "</table>\n",
       "</div>"
      ],
      "text/plain": [
       "                       Median_age_both_sexes       Total_Fertility_Rate        \\\n",
       "                                        mean   std                 mean   std   \n",
       "Region Subregion                                                                \n",
       "Africa Eastern Africa                  22.24  6.60                 3.60  1.16   \n",
       "       Middle Africa                   19.23  2.25                 4.43  0.92   \n",
       "       Northern Africa                 25.87  5.69                 3.25  1.19   \n",
       "       Southern Africa                 25.50  3.01                 2.58  0.30   \n",
       "       Western Africa                  21.14  6.70                 4.10  1.20   \n",
       "Europe Eastern Europe                  43.10  1.92                 1.48  0.17   \n",
       "       Northern Europe                 41.75  2.95                 1.73  0.20   \n",
       "       Southern Europe                 42.97  4.75                 1.53  0.19   \n",
       "       Western Europe                  44.68  4.75                 1.65  0.12   \n",
       "\n",
       "                       Infant_Mortality_Rate_Both_Sexes         \n",
       "                                                   mean    std  \n",
       "Region Subregion                                                \n",
       "Africa Eastern Africa                             37.29  17.68  \n",
       "       Middle Africa                              54.43  18.81  \n",
       "       Northern Africa                            25.77  18.79  \n",
       "       Southern Africa                            32.52   9.84  \n",
       "       Western Africa                             46.59  14.57  \n",
       "Europe Eastern Europe                              6.31   3.45  \n",
       "       Northern Europe                             3.34   1.18  \n",
       "       Southern Europe                             6.09   5.57  \n",
       "       Western Europe                              3.14   0.60  "
      ]
     },
     "execution_count": 35,
     "metadata": {},
     "output_type": "execute_result"
    }
   ],
   "source": [
    "# extracting the mean and std for suberions of the two regions\n",
    "\n",
    "grouped_data_result = grouped_data[['Median_age_both_sexes', 'Total_Fertility_Rate','Infant_Mortality_Rate_Both_Sexes']].agg(['mean', 'std']).round(2)\n",
    "grouped_data_result"
   ]
  },
  {
   "cell_type": "code",
   "execution_count": 36,
   "metadata": {},
   "outputs": [],
   "source": [
    "# calculating the valuesof the above table separately\n",
    "\n",
    "columns_to_inculde= ['Subregion', 'Total_Fertility_Rate','Infant_Mortality_Rate_Both_Sexes',\n",
    "                              'Infant_Mortality_Rate_Males','Infant_Mortality_Rate_Females']\n",
    "\n",
    "df_europe= df_reg[df_reg['Region']== 'Europe'][columns_to_inculde].groupby('Subregion')\n",
    "df_africa= df_reg[df_reg['Region']== 'Africa'][columns_to_inculde].groupby('Subregion')\n",
    "\n",
    "df_europe_mean= df_reg[df_reg['Region']== 'Europe'][columns_to_inculde].groupby('Subregion').mean()\n",
    "df_africa_mean= df_reg[df_reg['Region']== 'Africa'][columns_to_inculde].groupby('Subregion').mean()\n",
    "\n",
    "df_europe_std= df_reg[df_reg['Region']== 'Europe'][columns_to_inculde].groupby('Subregion').std()\n",
    "df_africa_std= df_reg[df_reg['Region']== 'Africa'][columns_to_inculde].groupby('Subregion').std()"
   ]
  },
  {
   "cell_type": "code",
   "execution_count": 37,
   "metadata": {},
   "outputs": [
    {
     "data": {
      "text/html": [
       "<div>\n",
       "<style scoped>\n",
       "    .dataframe tbody tr th:only-of-type {\n",
       "        vertical-align: middle;\n",
       "    }\n",
       "\n",
       "    .dataframe tbody tr th {\n",
       "        vertical-align: top;\n",
       "    }\n",
       "\n",
       "    .dataframe thead th {\n",
       "        text-align: right;\n",
       "    }\n",
       "</style>\n",
       "<table border=\"1\" class=\"dataframe\">\n",
       "  <thead>\n",
       "    <tr style=\"text-align: right;\">\n",
       "      <th></th>\n",
       "      <th>Total_Fertility_Rate</th>\n",
       "      <th>Infant_Mortality_Rate_Both_Sexes</th>\n",
       "      <th>Infant_Mortality_Rate_Males</th>\n",
       "      <th>Infant_Mortality_Rate_Females</th>\n",
       "    </tr>\n",
       "    <tr>\n",
       "      <th>Subregion</th>\n",
       "      <th></th>\n",
       "      <th></th>\n",
       "      <th></th>\n",
       "      <th></th>\n",
       "    </tr>\n",
       "  </thead>\n",
       "  <tbody>\n",
       "    <tr>\n",
       "      <th>Eastern Europe</th>\n",
       "      <td>1.481000</td>\n",
       "      <td>6.310000</td>\n",
       "      <td>7.040000</td>\n",
       "      <td>5.590000</td>\n",
       "    </tr>\n",
       "    <tr>\n",
       "      <th>Northern Europe</th>\n",
       "      <td>1.731429</td>\n",
       "      <td>3.342857</td>\n",
       "      <td>3.664286</td>\n",
       "      <td>3.000000</td>\n",
       "    </tr>\n",
       "    <tr>\n",
       "      <th>Southern Europe</th>\n",
       "      <td>1.526250</td>\n",
       "      <td>6.093750</td>\n",
       "      <td>6.506250</td>\n",
       "      <td>5.650000</td>\n",
       "    </tr>\n",
       "    <tr>\n",
       "      <th>Western Europe</th>\n",
       "      <td>1.645556</td>\n",
       "      <td>3.144444</td>\n",
       "      <td>3.511111</td>\n",
       "      <td>2.755556</td>\n",
       "    </tr>\n",
       "  </tbody>\n",
       "</table>\n",
       "</div>"
      ],
      "text/plain": [
       "                 Total_Fertility_Rate  Infant_Mortality_Rate_Both_Sexes  \\\n",
       "Subregion                                                                 \n",
       "Eastern Europe               1.481000                          6.310000   \n",
       "Northern Europe              1.731429                          3.342857   \n",
       "Southern Europe              1.526250                          6.093750   \n",
       "Western Europe               1.645556                          3.144444   \n",
       "\n",
       "                 Infant_Mortality_Rate_Males  Infant_Mortality_Rate_Females  \n",
       "Subregion                                                                    \n",
       "Eastern Europe                      7.040000                       5.590000  \n",
       "Northern Europe                     3.664286                       3.000000  \n",
       "Southern Europe                     6.506250                       5.650000  \n",
       "Western Europe                      3.511111                       2.755556  "
      ]
     },
     "execution_count": 37,
     "metadata": {},
     "output_type": "execute_result"
    }
   ],
   "source": [
    "df_europe_mean"
   ]
  },
  {
   "cell_type": "code",
   "execution_count": 38,
   "metadata": {},
   "outputs": [
    {
     "data": {
      "text/html": [
       "<div>\n",
       "<style scoped>\n",
       "    .dataframe tbody tr th:only-of-type {\n",
       "        vertical-align: middle;\n",
       "    }\n",
       "\n",
       "    .dataframe tbody tr th {\n",
       "        vertical-align: top;\n",
       "    }\n",
       "\n",
       "    .dataframe thead th {\n",
       "        text-align: right;\n",
       "    }\n",
       "</style>\n",
       "<table border=\"1\" class=\"dataframe\">\n",
       "  <thead>\n",
       "    <tr style=\"text-align: right;\">\n",
       "      <th></th>\n",
       "      <th>Total_Fertility_Rate</th>\n",
       "      <th>Infant_Mortality_Rate_Both_Sexes</th>\n",
       "      <th>Infant_Mortality_Rate_Males</th>\n",
       "      <th>Infant_Mortality_Rate_Females</th>\n",
       "    </tr>\n",
       "    <tr>\n",
       "      <th>Subregion</th>\n",
       "      <th></th>\n",
       "      <th></th>\n",
       "      <th></th>\n",
       "      <th></th>\n",
       "    </tr>\n",
       "  </thead>\n",
       "  <tbody>\n",
       "    <tr>\n",
       "      <th>Eastern Africa</th>\n",
       "      <td>3.601176</td>\n",
       "      <td>37.288235</td>\n",
       "      <td>41.711765</td>\n",
       "      <td>32.735294</td>\n",
       "    </tr>\n",
       "    <tr>\n",
       "      <th>Middle Africa</th>\n",
       "      <td>4.434444</td>\n",
       "      <td>54.433333</td>\n",
       "      <td>59.133333</td>\n",
       "      <td>49.588889</td>\n",
       "    </tr>\n",
       "    <tr>\n",
       "      <th>Northern Africa</th>\n",
       "      <td>3.248571</td>\n",
       "      <td>25.771429</td>\n",
       "      <td>28.385714</td>\n",
       "      <td>23.028571</td>\n",
       "    </tr>\n",
       "    <tr>\n",
       "      <th>Southern Africa</th>\n",
       "      <td>2.582000</td>\n",
       "      <td>32.520000</td>\n",
       "      <td>35.900000</td>\n",
       "      <td>29.040000</td>\n",
       "    </tr>\n",
       "    <tr>\n",
       "      <th>Western Africa</th>\n",
       "      <td>4.103529</td>\n",
       "      <td>46.594118</td>\n",
       "      <td>51.358824</td>\n",
       "      <td>41.664706</td>\n",
       "    </tr>\n",
       "  </tbody>\n",
       "</table>\n",
       "</div>"
      ],
      "text/plain": [
       "                 Total_Fertility_Rate  Infant_Mortality_Rate_Both_Sexes  \\\n",
       "Subregion                                                                 \n",
       "Eastern Africa               3.601176                         37.288235   \n",
       "Middle Africa                4.434444                         54.433333   \n",
       "Northern Africa              3.248571                         25.771429   \n",
       "Southern Africa              2.582000                         32.520000   \n",
       "Western Africa               4.103529                         46.594118   \n",
       "\n",
       "                 Infant_Mortality_Rate_Males  Infant_Mortality_Rate_Females  \n",
       "Subregion                                                                    \n",
       "Eastern Africa                     41.711765                      32.735294  \n",
       "Middle Africa                      59.133333                      49.588889  \n",
       "Northern Africa                    28.385714                      23.028571  \n",
       "Southern Africa                    35.900000                      29.040000  \n",
       "Western Africa                     51.358824                      41.664706  "
      ]
     },
     "execution_count": 38,
     "metadata": {},
     "output_type": "execute_result"
    }
   ],
   "source": [
    "df_africa_mean"
   ]
  },
  {
   "cell_type": "code",
   "execution_count": 39,
   "metadata": {
    "scrolled": true
   },
   "outputs": [
    {
     "data": {
      "text/html": [
       "<div>\n",
       "<style scoped>\n",
       "    .dataframe tbody tr th:only-of-type {\n",
       "        vertical-align: middle;\n",
       "    }\n",
       "\n",
       "    .dataframe tbody tr th {\n",
       "        vertical-align: top;\n",
       "    }\n",
       "\n",
       "    .dataframe thead th {\n",
       "        text-align: right;\n",
       "    }\n",
       "</style>\n",
       "<table border=\"1\" class=\"dataframe\">\n",
       "  <thead>\n",
       "    <tr style=\"text-align: right;\">\n",
       "      <th></th>\n",
       "      <th>Total_Fertility_Rate</th>\n",
       "      <th>Infant_Mortality_Rate_Both_Sexes</th>\n",
       "      <th>Infant_Mortality_Rate_Males</th>\n",
       "      <th>Infant_Mortality_Rate_Females</th>\n",
       "    </tr>\n",
       "    <tr>\n",
       "      <th>Subregion</th>\n",
       "      <th></th>\n",
       "      <th></th>\n",
       "      <th></th>\n",
       "      <th></th>\n",
       "    </tr>\n",
       "  </thead>\n",
       "  <tbody>\n",
       "    <tr>\n",
       "      <th>Eastern Europe</th>\n",
       "      <td>0.172784</td>\n",
       "      <td>3.445593</td>\n",
       "      <td>4.017241</td>\n",
       "      <td>2.827425</td>\n",
       "    </tr>\n",
       "    <tr>\n",
       "      <th>Northern Europe</th>\n",
       "      <td>0.195679</td>\n",
       "      <td>1.179122</td>\n",
       "      <td>1.291158</td>\n",
       "      <td>1.067708</td>\n",
       "    </tr>\n",
       "    <tr>\n",
       "      <th>Southern Europe</th>\n",
       "      <td>0.191551</td>\n",
       "      <td>5.570334</td>\n",
       "      <td>5.944125</td>\n",
       "      <td>5.236411</td>\n",
       "    </tr>\n",
       "    <tr>\n",
       "      <th>Western Europe</th>\n",
       "      <td>0.123906</td>\n",
       "      <td>0.600231</td>\n",
       "      <td>0.600925</td>\n",
       "      <td>0.596052</td>\n",
       "    </tr>\n",
       "  </tbody>\n",
       "</table>\n",
       "</div>"
      ],
      "text/plain": [
       "                 Total_Fertility_Rate  Infant_Mortality_Rate_Both_Sexes  \\\n",
       "Subregion                                                                 \n",
       "Eastern Europe               0.172784                          3.445593   \n",
       "Northern Europe              0.195679                          1.179122   \n",
       "Southern Europe              0.191551                          5.570334   \n",
       "Western Europe               0.123906                          0.600231   \n",
       "\n",
       "                 Infant_Mortality_Rate_Males  Infant_Mortality_Rate_Females  \n",
       "Subregion                                                                    \n",
       "Eastern Europe                      4.017241                       2.827425  \n",
       "Northern Europe                     1.291158                       1.067708  \n",
       "Southern Europe                     5.944125                       5.236411  \n",
       "Western Europe                      0.600925                       0.596052  "
      ]
     },
     "execution_count": 39,
     "metadata": {},
     "output_type": "execute_result"
    }
   ],
   "source": [
    "df_europe_std"
   ]
  },
  {
   "cell_type": "code",
   "execution_count": 40,
   "metadata": {},
   "outputs": [
    {
     "data": {
      "text/html": [
       "<div>\n",
       "<style scoped>\n",
       "    .dataframe tbody tr th:only-of-type {\n",
       "        vertical-align: middle;\n",
       "    }\n",
       "\n",
       "    .dataframe tbody tr th {\n",
       "        vertical-align: top;\n",
       "    }\n",
       "\n",
       "    .dataframe thead th {\n",
       "        text-align: right;\n",
       "    }\n",
       "</style>\n",
       "<table border=\"1\" class=\"dataframe\">\n",
       "  <thead>\n",
       "    <tr style=\"text-align: right;\">\n",
       "      <th></th>\n",
       "      <th>Total_Fertility_Rate</th>\n",
       "      <th>Infant_Mortality_Rate_Both_Sexes</th>\n",
       "      <th>Infant_Mortality_Rate_Males</th>\n",
       "      <th>Infant_Mortality_Rate_Females</th>\n",
       "    </tr>\n",
       "    <tr>\n",
       "      <th>Subregion</th>\n",
       "      <th></th>\n",
       "      <th></th>\n",
       "      <th></th>\n",
       "      <th></th>\n",
       "    </tr>\n",
       "  </thead>\n",
       "  <tbody>\n",
       "    <tr>\n",
       "      <th>Eastern Africa</th>\n",
       "      <td>1.161803</td>\n",
       "      <td>17.683922</td>\n",
       "      <td>19.543633</td>\n",
       "      <td>15.943374</td>\n",
       "    </tr>\n",
       "    <tr>\n",
       "      <th>Middle Africa</th>\n",
       "      <td>0.923446</td>\n",
       "      <td>18.805983</td>\n",
       "      <td>20.013371</td>\n",
       "      <td>17.588238</td>\n",
       "    </tr>\n",
       "    <tr>\n",
       "      <th>Northern Africa</th>\n",
       "      <td>1.186991</td>\n",
       "      <td>18.785341</td>\n",
       "      <td>20.772372</td>\n",
       "      <td>16.784488</td>\n",
       "    </tr>\n",
       "    <tr>\n",
       "      <th>Southern Africa</th>\n",
       "      <td>0.302275</td>\n",
       "      <td>9.839563</td>\n",
       "      <td>11.302212</td>\n",
       "      <td>8.404939</td>\n",
       "    </tr>\n",
       "    <tr>\n",
       "      <th>Western Africa</th>\n",
       "      <td>1.199359</td>\n",
       "      <td>14.565176</td>\n",
       "      <td>15.222765</td>\n",
       "      <td>13.939554</td>\n",
       "    </tr>\n",
       "  </tbody>\n",
       "</table>\n",
       "</div>"
      ],
      "text/plain": [
       "                 Total_Fertility_Rate  Infant_Mortality_Rate_Both_Sexes  \\\n",
       "Subregion                                                                 \n",
       "Eastern Africa               1.161803                         17.683922   \n",
       "Middle Africa                0.923446                         18.805983   \n",
       "Northern Africa              1.186991                         18.785341   \n",
       "Southern Africa              0.302275                          9.839563   \n",
       "Western Africa               1.199359                         14.565176   \n",
       "\n",
       "                 Infant_Mortality_Rate_Males  Infant_Mortality_Rate_Females  \n",
       "Subregion                                                                    \n",
       "Eastern Africa                     19.543633                      15.943374  \n",
       "Middle Africa                      20.013371                      17.588238  \n",
       "Northern Africa                    20.772372                      16.784488  \n",
       "Southern Africa                    11.302212                       8.404939  \n",
       "Western Africa                     15.222765                      13.939554  "
      ]
     },
     "execution_count": 40,
     "metadata": {},
     "output_type": "execute_result"
    }
   ],
   "source": [
    "df_africa_std"
   ]
  },
  {
   "cell_type": "code",
   "execution_count": 41,
   "metadata": {},
   "outputs": [
    {
     "data": {
      "text/plain": [
       "Index(['Eastern Europe', 'Northern Europe', 'Southern Europe',\n",
       "       'Western Europe'],\n",
       "      dtype='object', name='Subregion')"
      ]
     },
     "execution_count": 41,
     "metadata": {},
     "output_type": "execute_result"
    }
   ],
   "source": [
    "df_europe_mean.index"
   ]
  },
  {
   "cell_type": "code",
   "execution_count": 42,
   "metadata": {
    "scrolled": false
   },
   "outputs": [
    {
     "data": {
      "image/png": "[encoded data removed]",
      "text/plain": [
       "<Figure size 936x576 with 4 Axes>"
      ]
     },
     "metadata": {
      "needs_background": "light"
     },
     "output_type": "display_data"
    }
   ],
   "source": [
    "# plotting the important variables for Europe over subregions\n",
    "\n",
    "subregions = ['Eastern Europe', 'Northern Europe', 'Southern Europe',\n",
    "       'Western Europe']\n",
    "\n",
    "fig, axes = plt.subplots(2, 2, figsize=(13, 8), )\n",
    "\n",
    "axes[0, 0].bar(subregions, df_europe_mean['Total_Fertility_Rate'], color='whitesmoke', label='Total_Fertility_Rate')\n",
    "axes[0, 0].set_title('Total_Fertility_Rate- Europe')\n",
    "axes[0, 0].legend()\n",
    "\n",
    "axes[0, 1].bar(subregions, df_europe_mean['Infant_Mortality_Rate_Both_Sexes'], color='gainsboro',label='Infant_Mortality_Rate_Both_Sexes')\n",
    "axes[0, 1].set_title('Infant_Mortality_Rate_Both_Sexes')\n",
    "axes[0, 1].legend()\n",
    "\n",
    "axes[1, 0].bar(subregions, df_europe_mean['Infant_Mortality_Rate_Males'], color='silver', label='Infant_Mortality_Rate_Males')\n",
    "axes[1, 0].set_title('Infant_Mortality_Rate_Males')\n",
    "axes[1, 0].legend()\n",
    "\n",
    "axes[1, 1].bar(subregions, df_europe_mean['Infant_Mortality_Rate_Females'], color='darkgray', label='Infant_Mortality_Rate_Females')\n",
    "axes[1, 1].set_title('Infant_Mortality_Rate_Females')\n",
    "axes[1, 1].legend()\n",
    "\n",
    "plt.tight_layout()\n",
    "\n",
    "plt.show()\n"
   ]
  },
  {
   "cell_type": "code",
   "execution_count": 43,
   "metadata": {},
   "outputs": [
    {
     "data": {
      "text/plain": [
       "Index(['Eastern Africa', 'Middle Africa', 'Northern Africa', 'Southern Africa',\n",
       "       'Western Africa'],\n",
       "      dtype='object', name='Subregion')"
      ]
     },
     "execution_count": 43,
     "metadata": {},
     "output_type": "execute_result"
    }
   ],
   "source": [
    "df_africa_mean.index"
   ]
  },
  {
   "cell_type": "code",
   "execution_count": 44,
   "metadata": {},
   "outputs": [
    {
     "data": {
      "image/png": "[encoded data removed]",
      "text/plain": [
       "<Figure size 936x576 with 4 Axes>"
      ]
     },
     "metadata": {
      "needs_background": "light"
     },
     "output_type": "display_data"
    }
   ],
   "source": [
    "# plotting the important variables for Africa over subregions\n",
    "\n",
    "\n",
    "subregions = ['Eastern Africa', 'Middle Africa', 'Northern Africa', 'Southern Africa',\n",
    "       'Western Africa']\n",
    "\n",
    "fig, axes = plt.subplots(2, 2, figsize=(13, 8), )\n",
    "\n",
    "axes[0, 0].bar(subregions, df_africa_mean['Total_Fertility_Rate'], color='whitesmoke', label='Total_Fertility_Rate')\n",
    "axes[0, 0].set_title('Total_Fertility_Rate- Africa')\n",
    "axes[0, 0].legend()\n",
    "\n",
    "axes[0, 1].bar(subregions, df_africa_mean['Infant_Mortality_Rate_Both_Sexes'], color='gainsboro',label='Infant_Mortality_Rate_Both_Sexes')\n",
    "axes[0, 1].set_title('Infant_Mortality_Rate_Both_Sexes')\n",
    "axes[0, 1].legend()\n",
    "\n",
    "axes[1, 0].bar(subregions, df_africa_mean['Infant_Mortality_Rate_Males'], color='silver', label='Infant_Mortality_Rate_Males')\n",
    "axes[1, 0].set_title('Infant_Mortality_Rate_Males')\n",
    "axes[1, 0].legend()\n",
    "\n",
    "axes[1, 1].bar(subregions, df_africa_mean['Infant_Mortality_Rate_Females'], color='darkgray', label='Infant_Mortality_Rate_Females')\n",
    "axes[1, 1].set_title('Infant_Mortality_Rate_Females')\n",
    "axes[1, 1].legend()\n",
    "\n",
    "plt.tight_layout()\n",
    "\n",
    "plt.show()\n"
   ]
  },
  {
   "cell_type": "markdown",
   "metadata": {},
   "source": [
    "## Task 3:"
   ]
  },
  {
   "cell_type": "code",
   "execution_count": 45,
   "metadata": {},
   "outputs": [],
   "source": [
    "# extracing the data used for the task\n",
    "\n",
    "df_corr= df[['Median_age_both_sexes', 'Infant_Mortality_Rate_Both_Sexes']]"
   ]
  },
  {
   "cell_type": "code",
   "execution_count": 46,
   "metadata": {},
   "outputs": [
    {
     "data": {
      "text/plain": [
       "-0.796"
      ]
     },
     "execution_count": 46,
     "metadata": {},
     "output_type": "execute_result"
    }
   ],
   "source": [
    "# correlation by data frames\n",
    "\n",
    "df['Median_age_both_sexes'].corr(df['Infant_Mortality_Rate_Both_Sexes']).round(3)"
   ]
  },
  {
   "cell_type": "code",
   "execution_count": 47,
   "metadata": {},
   "outputs": [
    {
     "data": {
      "text/plain": [
       "(-0.796418040453732, 1.305901869803023e-50)"
      ]
     },
     "execution_count": 47,
     "metadata": {},
     "output_type": "execute_result"
    }
   ],
   "source": [
    "# calculating the correlation by another package to confirm the results of previous method\n",
    "\n",
    "coeff= scipy.stats.pearsonr(df['Median_age_both_sexes'], df['Infant_Mortality_Rate_Both_Sexes'])\n",
    "coeff"
   ]
  },
  {
   "cell_type": "code",
   "execution_count": 48,
   "metadata": {
    "scrolled": false
   },
   "outputs": [
    {
     "name": "stderr",
     "output_type": "stream",
     "text": [
      "C:\\Users\\ASUS\\anaconda3\\lib\\site-packages\\seaborn\\_decorators.py:36: FutureWarning: Pass the following variables as keyword args: x, y. From version 0.12, the only valid positional argument will be `data`, and passing other arguments without an explicit keyword will result in an error or misinterpretation.\n",
      "  warnings.warn(\n"
     ]
    },
    {
     "data": {
      "image/png": "[encoded data removed]",
      "text/plain": [
       "<Figure size 478.8x360 with 1 Axes>"
      ]
     },
     "metadata": {
      "needs_background": "light"
     },
     "output_type": "display_data"
    }
   ],
   "source": [
    "\"\"\"plotting scatter plot with a linear regression line(lmplot), to visualize the correlation between \n",
    "infant mortality rate for males against median age\"\"\"\n",
    "\n",
    "sns.lmplot('Median_age_both_sexes', 'Infant_Mortality_Rate_Both_Sexes', data= df, height=5, aspect=1.33)\n",
    "plt.title('Infant Mortality Rate Both_Sexes against Median Age');\n",
    "plt.savefig('Infant_mortality_vs_Age.pdf');"
   ]
  },
  {
   "cell_type": "code",
   "execution_count": 49,
   "metadata": {
    "scrolled": true
   },
   "outputs": [
    {
     "data": {
      "text/html": [
       "<div>\n",
       "<style scoped>\n",
       "    .dataframe tbody tr th:only-of-type {\n",
       "        vertical-align: middle;\n",
       "    }\n",
       "\n",
       "    .dataframe tbody tr th {\n",
       "        vertical-align: top;\n",
       "    }\n",
       "\n",
       "    .dataframe thead th {\n",
       "        text-align: right;\n",
       "    }\n",
       "</style>\n",
       "<table border=\"1\" class=\"dataframe\">\n",
       "  <thead>\n",
       "    <tr style=\"text-align: right;\">\n",
       "      <th></th>\n",
       "      <th>Median_age_both_sexes</th>\n",
       "      <th>Infant_Mortality_Rate_Both_Sexes</th>\n",
       "    </tr>\n",
       "  </thead>\n",
       "  <tbody>\n",
       "    <tr>\n",
       "      <th>221</th>\n",
       "      <td>35.8</td>\n",
       "      <td>10.5</td>\n",
       "    </tr>\n",
       "    <tr>\n",
       "      <th>222</th>\n",
       "      <td>28.9</td>\n",
       "      <td>18.8</td>\n",
       "    </tr>\n",
       "    <tr>\n",
       "      <th>223</th>\n",
       "      <td>29.4</td>\n",
       "      <td>9.9</td>\n",
       "    </tr>\n",
       "    <tr>\n",
       "      <th>224</th>\n",
       "      <td>48.1</td>\n",
       "      <td>3.4</td>\n",
       "    </tr>\n",
       "    <tr>\n",
       "      <th>225</th>\n",
       "      <td>16.2</td>\n",
       "      <td>57.2</td>\n",
       "    </tr>\n",
       "  </tbody>\n",
       "</table>\n",
       "</div>"
      ],
      "text/plain": [
       "     Median_age_both_sexes  Infant_Mortality_Rate_Both_Sexes\n",
       "221                   35.8                              10.5\n",
       "222                   28.9                              18.8\n",
       "223                   29.4                               9.9\n",
       "224                   48.1                               3.4\n",
       "225                   16.2                              57.2"
      ]
     },
     "execution_count": 49,
     "metadata": {},
     "output_type": "execute_result"
    }
   ],
   "source": [
    "df_corr.head()"
   ]
  },
  {
   "cell_type": "code",
   "execution_count": 50,
   "metadata": {},
   "outputs": [
    {
     "data": {
      "image/png": "[encoded data removed]",
      "text/plain": [
       "<Figure size 576x432 with 2 Axes>"
      ]
     },
     "metadata": {
      "needs_background": "light"
     },
     "output_type": "display_data"
    }
   ],
   "source": [
    "# showing the correlation using a heatmao\n",
    "\n",
    "cols= ['Infant Mortality Rate', 'Median Age']\n",
    "df_corr = df_corr.rename(columns={'Median_age_both_sexes': 'Median Age', 'Infant_Mortality_Rate_Both_Sexes': 'Infant Mortality Rate'})\n",
    "\n",
    "plt.figure(figsize=(8, 6))\n",
    "\n",
    "sns.heatmap(df_corr.corr(), annot=True, cmap='YlGnBu', fmt=\".2f\", linewidths=0.5, annot_kws={\"size\": 20})\n",
    "plt.title('Correlation Table of Infant Mortality Rate and Median Age')\n",
    "plt.savefig('Correlation.pdf')\n",
    "\n",
    "plt.show()"
   ]
  },
  {
   "cell_type": "code",
   "execution_count": 51,
   "metadata": {},
   "outputs": [
    {
     "name": "stderr",
     "output_type": "stream",
     "text": [
      "C:\\Users\\ASUS\\anaconda3\\lib\\site-packages\\seaborn\\_decorators.py:36: FutureWarning: Pass the following variables as keyword args: x, y. From version 0.12, the only valid positional argument will be `data`, and passing other arguments without an explicit keyword will result in an error or misinterpretation.\n",
      "  warnings.warn(\n"
     ]
    },
    {
     "data": {
      "image/png": "[encoded data removed]",
      "text/plain": [
       "<Figure size 478.8x360 with 1 Axes>"
      ]
     },
     "metadata": {
      "needs_background": "light"
     },
     "output_type": "display_data"
    }
   ],
   "source": [
    "# lmplot for infant mortality rate for males against median age\n",
    "\n",
    "sns.lmplot('Median_age_both_sexes', 'Infant_Mortality_Rate_Males', data= df, height=5, aspect=1.33)\n",
    "plt.title('Infant Mortality Rate Males against Median Age');\n"
   ]
  },
  {
   "cell_type": "code",
   "execution_count": 52,
   "metadata": {},
   "outputs": [
    {
     "name": "stderr",
     "output_type": "stream",
     "text": [
      "C:\\Users\\ASUS\\anaconda3\\lib\\site-packages\\seaborn\\_decorators.py:36: FutureWarning: Pass the following variables as keyword args: x, y. From version 0.12, the only valid positional argument will be `data`, and passing other arguments without an explicit keyword will result in an error or misinterpretation.\n",
      "  warnings.warn(\n"
     ]
    },
    {
     "data": {
      "image/png": "[encoded data removed]",
      "text/plain": [
       "<Figure size 478.8x360 with 1 Axes>"
      ]
     },
     "metadata": {
      "needs_background": "light"
     },
     "output_type": "display_data"
    }
   ],
   "source": [
    "# lmplot for infant mortality rate for females against median age\n",
    "\n",
    "\n",
    "sns.lmplot('Median_age_both_sexes', 'Infant_Mortality_Rate_Females', data= df, height=5, aspect=1.33)\n",
    "plt.title('Infant Mortality Rate Females against Median Age');\n"
   ]
  },
  {
   "cell_type": "markdown",
   "metadata": {},
   "source": [
    "# Task 4:"
   ]
  },
  {
   "cell_type": "code",
   "execution_count": 53,
   "metadata": {
    "scrolled": false
   },
   "outputs": [
    {
     "data": {
      "text/html": [
       "<div>\n",
       "<style scoped>\n",
       "    .dataframe tbody tr th:only-of-type {\n",
       "        vertical-align: middle;\n",
       "    }\n",
       "\n",
       "    .dataframe tbody tr th {\n",
       "        vertical-align: top;\n",
       "    }\n",
       "\n",
       "    .dataframe thead th {\n",
       "        text-align: right;\n",
       "    }\n",
       "</style>\n",
       "<table border=\"1\" class=\"dataframe\">\n",
       "  <thead>\n",
       "    <tr style=\"text-align: right;\">\n",
       "      <th></th>\n",
       "      <th>Region</th>\n",
       "      <th>Year</th>\n",
       "      <th>Median_age_both_sexes</th>\n",
       "      <th>Median_age_females</th>\n",
       "      <th>Median_age_males</th>\n",
       "      <th>Total_Fertility_Rate</th>\n",
       "      <th>Infant_Mortality_Rate_Both_Sexes</th>\n",
       "      <th>Infant_Mortality_Rate_Males</th>\n",
       "      <th>Infant_Mortality_Rate_Females</th>\n",
       "    </tr>\n",
       "  </thead>\n",
       "  <tbody>\n",
       "    <tr>\n",
       "      <th>0</th>\n",
       "      <td>Africa</td>\n",
       "      <td>2003</td>\n",
       "      <td>19.076923</td>\n",
       "      <td>19.490385</td>\n",
       "      <td>18.657692</td>\n",
       "      <td>4.962885</td>\n",
       "      <td>72.713462</td>\n",
       "      <td>78.811538</td>\n",
       "      <td>66.415385</td>\n",
       "    </tr>\n",
       "    <tr>\n",
       "      <th>1</th>\n",
       "      <td>Africa</td>\n",
       "      <td>2023</td>\n",
       "      <td>22.163636</td>\n",
       "      <td>22.616364</td>\n",
       "      <td>21.703636</td>\n",
       "      <td>3.755273</td>\n",
       "      <td>41.070909</td>\n",
       "      <td>45.320000</td>\n",
       "      <td>36.681818</td>\n",
       "    </tr>\n",
       "    <tr>\n",
       "      <th>2</th>\n",
       "      <td>Americas</td>\n",
       "      <td>2003</td>\n",
       "      <td>27.779167</td>\n",
       "      <td>28.320833</td>\n",
       "      <td>27.197917</td>\n",
       "      <td>2.356250</td>\n",
       "      <td>19.495833</td>\n",
       "      <td>21.437500</td>\n",
       "      <td>17.454167</td>\n",
       "    </tr>\n",
       "    <tr>\n",
       "      <th>3</th>\n",
       "      <td>Americas</td>\n",
       "      <td>2023</td>\n",
       "      <td>34.948980</td>\n",
       "      <td>35.818367</td>\n",
       "      <td>34.071429</td>\n",
       "      <td>1.878776</td>\n",
       "      <td>12.138776</td>\n",
       "      <td>13.697959</td>\n",
       "      <td>10.512245</td>\n",
       "    </tr>\n",
       "    <tr>\n",
       "      <th>4</th>\n",
       "      <td>Asia</td>\n",
       "      <td>2003</td>\n",
       "      <td>25.349020</td>\n",
       "      <td>25.411765</td>\n",
       "      <td>25.092157</td>\n",
       "      <td>2.826275</td>\n",
       "      <td>33.294118</td>\n",
       "      <td>36.000000</td>\n",
       "      <td>30.441176</td>\n",
       "    </tr>\n",
       "    <tr>\n",
       "      <th>5</th>\n",
       "      <td>Asia</td>\n",
       "      <td>2023</td>\n",
       "      <td>31.825490</td>\n",
       "      <td>32.182353</td>\n",
       "      <td>31.239216</td>\n",
       "      <td>2.143137</td>\n",
       "      <td>16.782353</td>\n",
       "      <td>18.527451</td>\n",
       "      <td>14.945098</td>\n",
       "    </tr>\n",
       "    <tr>\n",
       "      <th>6</th>\n",
       "      <td>Europe</td>\n",
       "      <td>2003</td>\n",
       "      <td>37.455102</td>\n",
       "      <td>38.871429</td>\n",
       "      <td>36.024490</td>\n",
       "      <td>1.521224</td>\n",
       "      <td>7.853061</td>\n",
       "      <td>8.655102</td>\n",
       "      <td>7.018367</td>\n",
       "    </tr>\n",
       "    <tr>\n",
       "      <th>7</th>\n",
       "      <td>Europe</td>\n",
       "      <td>2023</td>\n",
       "      <td>42.961224</td>\n",
       "      <td>44.465306</td>\n",
       "      <td>41.485714</td>\n",
       "      <td>1.597551</td>\n",
       "      <td>4.810204</td>\n",
       "      <td>5.253061</td>\n",
       "      <td>4.348980</td>\n",
       "    </tr>\n",
       "    <tr>\n",
       "      <th>8</th>\n",
       "      <td>Oceania</td>\n",
       "      <td>2003</td>\n",
       "      <td>24.233333</td>\n",
       "      <td>24.609524</td>\n",
       "      <td>23.900000</td>\n",
       "      <td>3.203333</td>\n",
       "      <td>21.590476</td>\n",
       "      <td>24.004762</td>\n",
       "      <td>19.038095</td>\n",
       "    </tr>\n",
       "    <tr>\n",
       "      <th>9</th>\n",
       "      <td>Oceania</td>\n",
       "      <td>2023</td>\n",
       "      <td>30.304762</td>\n",
       "      <td>30.976190</td>\n",
       "      <td>29.709524</td>\n",
       "      <td>2.344286</td>\n",
       "      <td>14.100000</td>\n",
       "      <td>16.085714</td>\n",
       "      <td>12.014286</td>\n",
       "    </tr>\n",
       "  </tbody>\n",
       "</table>\n",
       "</div>"
      ],
      "text/plain": [
       "     Region  Year  Median_age_both_sexes  Median_age_females  \\\n",
       "0    Africa  2003              19.076923           19.490385   \n",
       "1    Africa  2023              22.163636           22.616364   \n",
       "2  Americas  2003              27.779167           28.320833   \n",
       "3  Americas  2023              34.948980           35.818367   \n",
       "4      Asia  2003              25.349020           25.411765   \n",
       "5      Asia  2023              31.825490           32.182353   \n",
       "6    Europe  2003              37.455102           38.871429   \n",
       "7    Europe  2023              42.961224           44.465306   \n",
       "8   Oceania  2003              24.233333           24.609524   \n",
       "9   Oceania  2023              30.304762           30.976190   \n",
       "\n",
       "   Median_age_males  Total_Fertility_Rate  Infant_Mortality_Rate_Both_Sexes  \\\n",
       "0         18.657692              4.962885                         72.713462   \n",
       "1         21.703636              3.755273                         41.070909   \n",
       "2         27.197917              2.356250                         19.495833   \n",
       "3         34.071429              1.878776                         12.138776   \n",
       "4         25.092157              2.826275                         33.294118   \n",
       "5         31.239216              2.143137                         16.782353   \n",
       "6         36.024490              1.521224                          7.853061   \n",
       "7         41.485714              1.597551                          4.810204   \n",
       "8         23.900000              3.203333                         21.590476   \n",
       "9         29.709524              2.344286                         14.100000   \n",
       "\n",
       "   Infant_Mortality_Rate_Males  Infant_Mortality_Rate_Females  \n",
       "0                    78.811538                      66.415385  \n",
       "1                    45.320000                      36.681818  \n",
       "2                    21.437500                      17.454167  \n",
       "3                    13.697959                      10.512245  \n",
       "4                    36.000000                      30.441176  \n",
       "5                    18.527451                      14.945098  \n",
       "6                     8.655102                       7.018367  \n",
       "7                     5.253061                       4.348980  \n",
       "8                    24.004762                      19.038095  \n",
       "9                    16.085714                      12.014286  "
      ]
     },
     "execution_count": 53,
     "metadata": {},
     "output_type": "execute_result"
    }
   ],
   "source": [
    "# grouping initial data by region and year, and calculating the mean and std for variables\n",
    "\n",
    "df_grouped_years= df_init.groupby(['Region', 'Year'])\n",
    "\n",
    "df_grouped_years_mean = df_grouped_years.mean()\n",
    "df_grouped_years_std = df_grouped_years.std()\n",
    "df_grouped_years_mean.reset_index(inplace= True)\n",
    "df_grouped_years_std.reset_index(inplace= True)\n",
    "\n",
    "df_grouped_years_mean.head(15)"
   ]
  },
  {
   "cell_type": "code",
   "execution_count": 54,
   "metadata": {},
   "outputs": [
    {
     "data": {
      "text/plain": [
       "array(['Europe', 'Africa', 'Oceania', 'Americas', 'Asia'], dtype=object)"
      ]
     },
     "execution_count": 54,
     "metadata": {},
     "output_type": "execute_result"
    }
   ],
   "source": [
    "df['Region'].unique()"
   ]
  },
  {
   "cell_type": "code",
   "execution_count": 55,
   "metadata": {},
   "outputs": [
    {
     "data": {
      "image/png": "[encoded data removed]",
      "text/plain": [
       "<Figure size 432x360 with 1 Axes>"
      ]
     },
     "metadata": {
      "needs_background": "light"
     },
     "output_type": "display_data"
    }
   ],
   "source": [
    "# plotting total fertitlity rate by region and year\n",
    "\n",
    "plt.figure(figsize=(6, 5))\n",
    "\n",
    "sns.set_palette(\"Paired\")\n",
    "\n",
    "sns.barplot(x=\"Region\", y='Total_Fertility_Rate', hue='Year', data=df_grouped_years_mean)\n",
    "\n",
    "plt.tight_layout()\n",
    "plt.subplots_adjust(wspace=0.5)\n",
    "plt.savefig('Fertility_Year.pdf')\n",
    "plt.show()\n",
    "\n"
   ]
  },
  {
   "cell_type": "code",
   "execution_count": 56,
   "metadata": {},
   "outputs": [
    {
     "data": {
      "image/png": "[encoded data removed]",
      "text/plain": [
       "<Figure size 432x360 with 1 Axes>"
      ]
     },
     "metadata": {
      "needs_background": "light"
     },
     "output_type": "display_data"
    }
   ],
   "source": [
    "# plotting infant mortality rate by region and year\n",
    "\n",
    "plt.figure(figsize=(6, 5))\n",
    "\n",
    "sns.set_palette(\"Paired\")\n",
    "\n",
    "sns.barplot(x=\"Region\", y='Infant_Mortality_Rate_Both_Sexes', hue='Year', data=df_grouped_years_mean)\n",
    "\n",
    "plt.tight_layout()\n",
    "plt.subplots_adjust(wspace=0.5)\n",
    "plt.savefig('Mortality_Year.pdf')\n",
    "plt.show()\n",
    "\n"
   ]
  },
  {
   "cell_type": "code",
   "execution_count": 57,
   "metadata": {
    "scrolled": false
   },
   "outputs": [
    {
     "data": {
      "image/png": "[encoded data removed]",
      "text/plain": [
       "<Figure size 720x576 with 4 Axes>"
      ]
     },
     "metadata": {
      "needs_background": "light"
     },
     "output_type": "display_data"
    }
   ],
   "source": [
    "# plotting the mean of the some important variables grouped by year and region as subplots\n",
    "\n",
    "columns_to_plot = [\"Total_Fertility_Rate\", \"Infant_Mortality_Rate_Both_Sexes\", \"Infant_Mortality_Rate_Males\", \"Infant_Mortality_Rate_Females\"]\n",
    "\n",
    "fig, axs = plt.subplots(2, 2, figsize=(10, 8))\n",
    "\n",
    "sns.set_palette(\"Paired\")\n",
    "\n",
    "for i, cols in enumerate(columns_to_plot):\n",
    "    row = i // 2  # Row index for the subplot\n",
    "    col = i % 2   # Column index for the subplot\n",
    "    ax = axs[row, col]\n",
    "\n",
    "    sns.barplot(x=\"Region\", y=cols, hue='Year', data=df_grouped_years_mean, ax=ax)\n",
    "    ax.set_title(cols)\n",
    "\n",
    "\n",
    "plt.tight_layout()\n",
    "plt.subplots_adjust(hspace=0.5)\n",
    "plt.savefig('means.pdf')\n",
    "plt.show()\n"
   ]
  },
  {
   "cell_type": "code",
   "execution_count": 58,
   "metadata": {
    "scrolled": false
   },
   "outputs": [
    {
     "data": {
      "image/png": "[encoded data removed]",
      "text/plain": [
       "<Figure size 720x576 with 4 Axes>"
      ]
     },
     "metadata": {
      "needs_background": "light"
     },
     "output_type": "display_data"
    }
   ],
   "source": [
    "# plotting the std of the some important variables grouped by year and region as subplots to show variability\n",
    "\n",
    "\n",
    "fig, axs = plt.subplots(2, 2, figsize=(10, 8))\n",
    "\n",
    "sns.set_palette(\"pastel\")\n",
    "\n",
    "for i, cols in enumerate(columns_to_plot):\n",
    "    row = i // 2  # Row index for the subplot\n",
    "    col = i % 2   # Column index for the subplot\n",
    "    ax = axs[row, col]\n",
    "\n",
    "    sns.barplot(x=\"Region\", y=cols, hue='Year', data=df_grouped_years_std, ax=ax)\n",
    "    ax.set_title(cols)\n",
    "\n",
    "\n",
    "plt.tight_layout()\n",
    "plt.subplots_adjust(hspace=0.5)\n",
    "plt.show()\n"
   ]
  },
  {
   "cell_type": "code",
   "execution_count": 59,
   "metadata": {
    "scrolled": false
   },
   "outputs": [
    {
     "data": {
      "image/png": "[encoded data removed]",
      "text/plain": [
       "<Figure size 720x360 with 1 Axes>"
      ]
     },
     "metadata": {
      "needs_background": "light"
     },
     "output_type": "display_data"
    }
   ],
   "source": [
    "# barplot showing infant mortality rate by region and year\n",
    "\n",
    "df_2003= df_init[df_init['Year'] == 2003].groupby('Region').mean()\n",
    "df_2003.reset_index(inplace= True)\n",
    "\n",
    "df_2023= df_init[df_init['Year'] == 2023].groupby('Region').mean()\n",
    "df_2023.reset_index(inplace= True)\n",
    "\n",
    "regions= ['Europe', 'Africa', 'Oceania', 'Americas', 'Asia']\n",
    "\n",
    "\n",
    "x_2003 = df_2003['Infant_Mortality_Rate_Both_Sexes']\n",
    "x_2023 = df_2023['Infant_Mortality_Rate_Both_Sexes'] * -1\n",
    "\n",
    "plt.figure(figsize= (10,5))\n",
    "ax1 = sns.barplot(x=x_2003, y=df_2003['Region'], order=regions, palette=\"Blues\", label= '2003')\n",
    "ax2 = sns.barplot(x=x_2023, y=df_2023['Region'], order=regions, palette=\"Greens\", label= '2023')\n",
    "plt.title('Infant Mortality Rate For Both Sexes 2003-2023')\n",
    "ticks = ax2.get_xticks()\n",
    "ax2.set_xticks(ticks)\n",
    "ax2.set_xticklabels([int(abs(x)) for x in ticks])\n",
    "plt.legend()\n",
    "plt.xlabel('')\n",
    "plt.ylabel('');\n",
    "\n"
   ]
  },
  {
   "cell_type": "code",
   "execution_count": 60,
   "metadata": {},
   "outputs": [
    {
     "data": {
      "image/png": "[encoded data removed]",
      "text/plain": [
       "<Figure size 720x360 with 1 Axes>"
      ]
     },
     "metadata": {
      "needs_background": "light"
     },
     "output_type": "display_data"
    }
   ],
   "source": [
    "# barplot showing total frtility rate by region and year\n",
    "\n",
    "\n",
    "x_2003 = df_2003['Total_Fertility_Rate']\n",
    "x_2023 = df_2023['Total_Fertility_Rate'] * -1\n",
    "\n",
    "\n",
    "\n",
    "plt.figure(figsize= (10,5))\n",
    "ax1 = sns.barplot(x=x_2003, y=df_2003['Region'], order=regions, palette=\"Blues\", label= '2003')\n",
    "ax2 = sns.barplot(x=x_2023, y=df_2023['Region'], order=regions, palette=\"Greens\", label= '2023')\n",
    "plt.legend() \n",
    "plt.title('Total Fertility Rate 2003- 2023')\n",
    "ticks = ax2.get_xticks()\n",
    "ax2.set_xticks(ticks)\n",
    "ax2.set_xticklabels([int(abs(x)) for x in ticks])\n",
    "plt.xlabel('')\n",
    "plt.ylabel('');"
   ]
  },
  {
   "cell_type": "code",
   "execution_count": null,
   "metadata": {},
   "outputs": [],
   "source": []
  }
 ],
 "metadata": {
  "kernelspec": {
   "display_name": "Python 3",
   "language": "python",
   "name": "python3"
  },
  "language_info": {
   "codemirror_mode": {
    "name": "ipython",
    "version": 3
   },
   "file_extension": ".py",
   "mimetype": "text/x-python",
   "name": "python",
   "nbconvert_exporter": "python",
   "pygments_lexer": "ipython3",
   "version": "3.8.5"
  }
 },
 "nbformat": 4,
 "nbformat_minor": 4
}
